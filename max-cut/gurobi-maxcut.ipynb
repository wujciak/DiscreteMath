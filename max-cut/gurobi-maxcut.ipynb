{
 "cells": [
  {
   "cell_type": "markdown",
   "id": "0f5fe07e",
   "metadata": {},
   "source": [
    "# Gurobi"
   ]
  },
  {
   "cell_type": "code",
   "execution_count": null,
   "id": "d0363b0d",
   "metadata": {},
   "outputs": [],
   "source": [
    "import gurobipy as gp\n",
    "from gurobipy import GRB\n",
    "import networkx as nx\n",
    "import numpy as np\n",
    "import matplotlib.pyplot as plt\n",
    "import time\n",
    "import pandas as pd\n",
    "import seaborn as sns\n",
    "import os\n",
    "from datetime import datetime"
   ]
  },
  {
   "cell_type": "code",
   "execution_count": null,
   "id": "f846d9c1",
   "metadata": {},
   "outputs": [],
   "source": [
    "def generate_random_graph(n_nodes=8, p=0.5, seed=None):\n",
    "    G = nx.erdos_renyi_graph(n_nodes, p, seed=seed)\n",
    "    for (u, v) in G.edges():\n",
    "        G.edges[u, v]['weight'] = np.random.randint(1, 10)\n",
    "    return G"
   ]
  },
  {
   "cell_type": "code",
   "execution_count": null,
   "id": "1e25b855",
   "metadata": {},
   "outputs": [],
   "source": [
    "def maxcut_gurobi(G):\n",
    "    n = G.number_of_nodes()\n",
    "    m = gp.Model(\"maxcut\")\n",
    "    m.setParam('OutputFlag', 0)  # Silence output\n",
    "\n",
    "    # Binary variables for each node\n",
    "    x = m.addVars(n, vtype=GRB.BINARY, name=\"x\")\n",
    "\n",
    "    # Objective: sum weights where endpoints are in different sets\n",
    "    obj = gp.quicksum(\n",
    "        G.edges[i, j]['weight'] * (x[i] + x[j] - 2 * x[i] * x[j])\n",
    "        for i, j in G.edges()\n",
    "    )\n",
    "    m.setObjective(obj, GRB.MAXIMIZE)\n",
    "    m.optimize()\n",
    "\n",
    "    cut = [int(x[i].X) for i in range(n)]\n",
    "    cut_value = m.objVal\n",
    "    return cut, cut_value"
   ]
  },
  {
   "cell_type": "code",
   "execution_count": null,
   "id": "f7fe0534",
   "metadata": {},
   "outputs": [],
   "source": [
    "def run_gurobi_experiment_time_budget(sizes, edge_prob=0.5, time_per_size=420):\n",
    "    all_cut_values = []\n",
    "    all_times = []\n",
    "    for n_nodes in sizes:\n",
    "        cut_values = []\n",
    "        times = []\n",
    "        start_time = time.time()\n",
    "        g_idx = 0\n",
    "        while time.time() - start_time < time_per_size:\n",
    "            G = generate_random_graph(n_nodes=n_nodes, p=edge_prob, seed=g_idx)\n",
    "            t0 = time.time()\n",
    "            cut, value = maxcut_gurobi(G)\n",
    "            t1 = time.time()\n",
    "            cut_values.append(value)\n",
    "            times.append(t1 - t0)\n",
    "            g_idx += 1\n",
    "        all_cut_values.append(cut_values)\n",
    "        all_times.append(times)\n",
    "        print(f\"Size: {n_nodes} | Graphs: {g_idx} | Mean Cut: {np.mean(cut_values):.2f} | Mean Time: {np.mean(times):.3f}s\")\n",
    "    return all_cut_values, all_times"
   ]
  },
  {
   "cell_type": "code",
   "execution_count": null,
   "id": "a95918c6",
   "metadata": {},
   "outputs": [],
   "source": [
    "sizes = [8, 10, 12, 14, 16]\n",
    "edge_prob = 0.5\n",
    "time_per_size = 600  # seconds\n",
    "\n",
    "\n",
    "cut_values, times = run_gurobi_experiment_time_budget(sizes, edge_prob, time_per_size)\n",
    "\n",
    "df = pd.DataFrame({\n",
    "    'Graph Size': sum([[size]*len(vals) for size, vals in zip(sizes, cut_values)], []),\n",
    "    'Cut Value': sum(cut_values, []),\n",
    "    'Time': sum(times, [])\n",
    "})\n",
    "\n",
    "# Save CSV\n",
    "os.makedirs(\"data/gurobi-data\", exist_ok=True)\n",
    "timestamp = datetime.now().strftime(\"%Y%m%d_%H%M%S\")\n",
    "csv_path = f\"data/gurobi-data/gurobi_{timestamp}.csv\"\n",
    "df.to_csv(csv_path, index=False)\n",
    "print(f\"Results saved to {csv_path}\")\n",
    "\n",
    "# Save plot\n",
    "plot_dir = f\"plots/gurobi_{timestamp}\"\n",
    "os.makedirs(plot_dir, exist_ok=True)\n",
    "plot_path = os.path.join(plot_dir, f\"gurobi_violin_{timestamp}.png\")\n",
    "\n",
    "plt.figure(figsize=(10,6))\n",
    "sns.violinplot(x='Graph Size', y='Time', data=df, inner='quartile', density_norm='width')\n",
    "plt.title('Gurobi Max-Cut Computation Time')\n",
    "plt.xlabel('Graph Size (nodes)')\n",
    "plt.ylabel('Computation Time (seconds)')\n",
    "plt.yscale('log')\n",
    "plt.tight_layout()\n",
    "plt.savefig(plot_path)\n",
    "plt.show()\n",
    "print(f\"Plot saved to {plot_path}\")"
   ]
  }
 ],
 "metadata": {
  "kernelspec": {
   "display_name": "Python 3",
   "language": "python",
   "name": "python3"
  },
  "language_info": {
   "codemirror_mode": {
    "name": "ipython",
    "version": 3
   },
   "file_extension": ".py",
   "mimetype": "text/x-python",
   "name": "python",
   "nbconvert_exporter": "python",
   "pygments_lexer": "ipython3",
   "version": "3.12.1"
  }
 },
 "nbformat": 4,
 "nbformat_minor": 5
}
