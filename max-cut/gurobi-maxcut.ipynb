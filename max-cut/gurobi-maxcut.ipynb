{
 "cells": [
  {
   "cell_type": "markdown",
   "id": "0f5fe07e",
   "metadata": {},
   "source": [
    "# Gurobi"
   ]
  }
 ],
 "metadata": {
  "language_info": {
   "name": "python"
  }
 },
 "nbformat": 4,
 "nbformat_minor": 5
}
