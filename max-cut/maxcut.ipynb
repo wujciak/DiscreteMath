{
 "cells": [
  {
   "cell_type": "markdown",
   "id": "a7fd3466",
   "metadata": {},
   "source": [
    "# Notes\n",
    "- No weights, no directions\n",
    "- We encode graph as edge with beggining and end number\n",
    "- Gurobi, Bruteforce, approximating alg!!!\n",
    "- two-dimensional space, two for loops, e_ij * (xi * xj + 1)/2\n",
    "- bruteforce O(n) = 2^n * n^2\n",
    "- if we have slightly less edges than nodes then algorithm is more efficient\n",
    "- we dont know how gurobi works, but we need to test it, maybe test on different graphs, make some hypothesis!!\n",
    "- treat gurobi as blackbox\n",
    "- use approximate algorithm and test it!!"
   ]
  },
  {
   "cell_type": "code",
   "execution_count": null,
   "id": "ee716112",
   "metadata": {},
   "outputs": [],
   "source": [
    "mutable struct Edge\n",
    "    u::Int\n",
    "    v::Int\n",
    "end\n",
    "\n",
    "mutable struct Graph\n",
    "    edges::Vector{Edge}\n",
    "end\n",
    "\n",
    "function addedge!(graph::Graph, u::Int, v::Int)\n",
    "    push!(graph.edges, Edge(u, v))\n",
    "end"
   ]
  },
  {
   "cell_type": "code",
   "execution_count": null,
   "id": "8d581803",
   "metadata": {},
   "outputs": [],
   "source": []
  }
 ],
 "metadata": {
  "kernelspec": {
   "display_name": "Julia 1.11.5",
   "language": "julia",
   "name": "julia-1.11"
  },
  "language_info": {
   "file_extension": ".jl",
   "mimetype": "application/julia",
   "name": "julia",
   "version": "1.11.5"
  }
 },
 "nbformat": 4,
 "nbformat_minor": 5
}
