{
 "cells": [
  {
   "cell_type": "markdown",
   "id": "c62040bd",
   "metadata": {},
   "source": [
    "# QAOA \n",
    "Reference: https://pennylane.ai/qml/demos/tutorial_qaoa_maxcut"
   ]
  },
  {
   "cell_type": "code",
   "execution_count": 1,
   "id": "32862586",
   "metadata": {},
   "outputs": [],
   "source": [
    "import pennylane as qml\n",
    "from pennylane import numpy as np\n",
    "import networkx as nx\n",
    "import matplotlib.pyplot as plt\n",
    "import time\n",
    "import pandas as pd\n",
    "import seaborn as sns\n",
    "import os\n",
    "from datetime import datetime\n",
    "from pennylane import qaoa"
   ]
  },
  {
   "cell_type": "markdown",
   "id": "76daee38",
   "metadata": {},
   "source": [
    "## Graph generating function"
   ]
  },
  {
   "cell_type": "code",
   "execution_count": 2,
   "id": "d58b56de",
   "metadata": {},
   "outputs": [],
   "source": [
    "def generate_random_graph(n_nodes=8, p=0.5, seed=None):\n",
    "    G = nx.erdos_renyi_graph(n_nodes, p, seed=seed)\n",
    "    for (u, v) in G.edges():\n",
    "        G.edges[u, v]['weight'] = int(np.random.randint(1, 10))   \n",
    "    G = nx.convert_node_labels_to_integers(G)\n",
    "    return G\n"
   ]
  },
  {
   "cell_type": "markdown",
   "id": "31bf3169",
   "metadata": {},
   "source": [
    "## Algorithm function"
   ]
  },
  {
   "cell_type": "code",
   "execution_count": 3,
   "id": "3604b88b",
   "metadata": {},
   "outputs": [],
   "source": [
    "def maxcut_qaoa(G, p_layers=1, optimizer_steps=50, seed=None):\n",
    "    np.random.seed(seed)\n",
    "    n = G.number_of_nodes()\n",
    "    edges = list(G.edges())\n",
    "    dev = qml.device(\"default.qubit\", wires=n, shots=100)\n",
    "\n",
    "    # Build cost Hamiltonian using PennyLane's built-in function\n",
    "    cost_h, _ = qaoa.maxcut(G)\n",
    "\n",
    "    def qaoa_layer(gamma, beta):\n",
    "        # Cost layer\n",
    "        for (i, j) in edges:\n",
    "            qml.CNOT(wires=[i, j])\n",
    "            qml.RZ(-gamma, wires=j)\n",
    "            qml.CNOT(wires=[i, j])\n",
    "        # Mixer layer\n",
    "        for i in range(n):\n",
    "            qml.RX(2 * beta, wires=i)\n",
    "\n",
    "    @qml.qnode(dev)\n",
    "    def circuit(params):\n",
    "        # Initial state\n",
    "        for i in range(n):\n",
    "            qml.Hadamard(wires=i)\n",
    "        # QAOA layers\n",
    "        for l in range(p_layers):\n",
    "            qaoa_layer(params[l, 0], params[l, 1])\n",
    "        return qml.expval(cost_h)\n",
    "\n",
    "    @qml.qnode(dev)\n",
    "    def sample_circuit(params):\n",
    "        for i in range(n):\n",
    "            qml.Hadamard(wires=i)\n",
    "        for l in range(p_layers):\n",
    "            qaoa_layer(params[l, 0], params[l, 1])\n",
    "        return [qml.sample(qml.PauliZ(i)) for i in range(n)]\n",
    "\n",
    "    # Initial parameters\n",
    "    params = 0.01 * np.random.randn(p_layers, 2)\n",
    "    params = qml.numpy.array(params, requires_grad=True)\n",
    "    opt = qml.GradientDescentOptimizer(stepsize=0.1)\n",
    "\n",
    "    for step in range(optimizer_steps):\n",
    "        params = opt.step(lambda v: -circuit(v), params)\n",
    "\n",
    "    # After optimization\n",
    "    cut_value = circuit(params)\n",
    "    # Sample bitstrings\n",
    "    samples = np.array(sample_circuit(params))\n",
    "    # Convert {-1,1} to {0,1}\n",
    "    bitstrings = ((1 - samples.T) // 2).astype(int)\n",
    "    # Evaluate cut for each sample\n",
    "    def cut_from_bitstring(bitstring):\n",
    "        return sum(G.edges[i, j]['weight'] for i, j in edges if bitstring[i] != bitstring[j])\n",
    "    cut_values = [cut_from_bitstring(bs) for bs in bitstrings]\n",
    "    max_idx = np.argmax(cut_values)\n",
    "    best_bitstring = bitstrings[max_idx]\n",
    "    best_cut_value = cut_values[max_idx]\n",
    "    \n",
    "    return best_bitstring, best_cut_value"
   ]
  },
  {
   "cell_type": "markdown",
   "id": "76a27dd3",
   "metadata": {},
   "source": [
    "## Experiment function"
   ]
  },
  {
   "cell_type": "code",
   "execution_count": 4,
   "id": "2e8f55f9",
   "metadata": {},
   "outputs": [],
   "source": [
    "def run_qaoa_experiment_time_budget(sizes, edge_prob=0.5, time_per_size=420, p_layers=1, optimizer_steps=50):\n",
    "    all_cut_values = []\n",
    "\n",
    "    for n_nodes in sizes:\n",
    "        cut_values = []\n",
    "        start_time = time.time()\n",
    "        g_idx = 0\n",
    "\n",
    "        while time.time() - start_time < time_per_size:\n",
    "            G = generate_random_graph(n_nodes=n_nodes, p=edge_prob, seed=g_idx)\n",
    "            _, value = maxcut_qaoa(G, p_layers=p_layers, optimizer_steps=optimizer_steps, seed=g_idx)\n",
    "            cut_values.append(value)\n",
    "            g_idx += 1\n",
    "        all_cut_values.append(cut_values)\n",
    "        print(f\"Size: {n_nodes} | Graphs: {g_idx} | Mean Cut: {np.mean(cut_values):.2f} | Std: {np.std(cut_values):.2f}\")\n",
    "    \n",
    "    return all_cut_values"
   ]
  },
  {
   "cell_type": "markdown",
   "id": "f495a6a2",
   "metadata": {},
   "source": [
    "## Experiment and results save"
   ]
  },
  {
   "cell_type": "code",
   "execution_count": 5,
   "id": "ab8a1637",
   "metadata": {},
   "outputs": [
    {
     "ename": "TypeError",
     "evalue": "Can't differentiate w.r.t. type <class 'numpy.int64'>",
     "output_type": "error",
     "traceback": [
      "\u001b[1;31m---------------------------------------------------------------------------\u001b[0m",
      "\u001b[1;31mKeyError\u001b[0m                                  Traceback (most recent call last)",
      "File \u001b[1;32mc:\\Users\\Jakub\\AppData\\Local\\Programs\\Python\\Python312\\Lib\\site-packages\\autograd\\tracer.py:139\u001b[0m, in \u001b[0;36mnew_box\u001b[1;34m(value, trace, node)\u001b[0m\n\u001b[0;32m    138\u001b[0m \u001b[38;5;28;01mtry\u001b[39;00m:\n\u001b[1;32m--> 139\u001b[0m     \u001b[38;5;28;01mreturn\u001b[39;00m \u001b[43mbox_type_mappings\u001b[49m\u001b[43m[\u001b[49m\u001b[38;5;28;43mtype\u001b[39;49m\u001b[43m(\u001b[49m\u001b[43mvalue\u001b[49m\u001b[43m)\u001b[49m\u001b[43m]\u001b[49m(value, trace, node)\n\u001b[0;32m    140\u001b[0m \u001b[38;5;28;01mexcept\u001b[39;00m \u001b[38;5;167;01mKeyError\u001b[39;00m:\n",
      "\u001b[1;31mKeyError\u001b[0m: <class 'numpy.int64'>",
      "\nDuring handling of the above exception, another exception occurred:\n",
      "\u001b[1;31mTypeError\u001b[0m                                 Traceback (most recent call last)",
      "Cell \u001b[1;32mIn[5], line 7\u001b[0m\n\u001b[0;32m      4\u001b[0m p_layers \u001b[38;5;241m=\u001b[39m \u001b[38;5;241m1\u001b[39m\n\u001b[0;32m      5\u001b[0m optimizer_steps \u001b[38;5;241m=\u001b[39m \u001b[38;5;241m50\u001b[39m\n\u001b[1;32m----> 7\u001b[0m cut_values \u001b[38;5;241m=\u001b[39m \u001b[43mrun_qaoa_experiment_time_budget\u001b[49m\u001b[43m(\u001b[49m\u001b[43msizes\u001b[49m\u001b[43m,\u001b[49m\u001b[43m \u001b[49m\u001b[43medge_prob\u001b[49m\u001b[43m,\u001b[49m\u001b[43m \u001b[49m\u001b[43mtime_per_size\u001b[49m\u001b[43m,\u001b[49m\u001b[43m \u001b[49m\u001b[43mp_layers\u001b[49m\u001b[43m,\u001b[49m\u001b[43m \u001b[49m\u001b[43moptimizer_steps\u001b[49m\u001b[43m)\u001b[49m\n\u001b[0;32m      9\u001b[0m df \u001b[38;5;241m=\u001b[39m pd\u001b[38;5;241m.\u001b[39mDataFrame({\n\u001b[0;32m     10\u001b[0m     \u001b[38;5;124m'\u001b[39m\u001b[38;5;124mGraph Size\u001b[39m\u001b[38;5;124m'\u001b[39m: np\u001b[38;5;241m.\u001b[39mrepeat(sizes, [\u001b[38;5;28mlen\u001b[39m(cut) \u001b[38;5;28;01mfor\u001b[39;00m cut \u001b[38;5;129;01min\u001b[39;00m cut_values]),\n\u001b[0;32m     11\u001b[0m     \u001b[38;5;124m'\u001b[39m\u001b[38;5;124mCut Value\u001b[39m\u001b[38;5;124m'\u001b[39m: np\u001b[38;5;241m.\u001b[39mconcatenate(cut_values)\n\u001b[0;32m     12\u001b[0m })\n\u001b[0;32m     14\u001b[0m \u001b[38;5;66;03m# Save csv\u001b[39;00m\n",
      "Cell \u001b[1;32mIn[4], line 11\u001b[0m, in \u001b[0;36mrun_qaoa_experiment_time_budget\u001b[1;34m(sizes, edge_prob, time_per_size, p_layers, optimizer_steps)\u001b[0m\n\u001b[0;32m      9\u001b[0m \u001b[38;5;28;01mwhile\u001b[39;00m time\u001b[38;5;241m.\u001b[39mtime() \u001b[38;5;241m-\u001b[39m start_time \u001b[38;5;241m<\u001b[39m time_per_size:\n\u001b[0;32m     10\u001b[0m     G \u001b[38;5;241m=\u001b[39m generate_random_graph(n_nodes\u001b[38;5;241m=\u001b[39mn_nodes, p\u001b[38;5;241m=\u001b[39medge_prob, seed\u001b[38;5;241m=\u001b[39mg_idx)\n\u001b[1;32m---> 11\u001b[0m     _, value \u001b[38;5;241m=\u001b[39m \u001b[43mmaxcut_qaoa\u001b[49m\u001b[43m(\u001b[49m\u001b[43mG\u001b[49m\u001b[43m,\u001b[49m\u001b[43m \u001b[49m\u001b[43mp_layers\u001b[49m\u001b[38;5;241;43m=\u001b[39;49m\u001b[43mp_layers\u001b[49m\u001b[43m,\u001b[49m\u001b[43m \u001b[49m\u001b[43moptimizer_steps\u001b[49m\u001b[38;5;241;43m=\u001b[39;49m\u001b[43moptimizer_steps\u001b[49m\u001b[43m,\u001b[49m\u001b[43m \u001b[49m\u001b[43mseed\u001b[49m\u001b[38;5;241;43m=\u001b[39;49m\u001b[43mg_idx\u001b[49m\u001b[43m)\u001b[49m\n\u001b[0;32m     12\u001b[0m     cut_values\u001b[38;5;241m.\u001b[39mappend(value)\n\u001b[0;32m     13\u001b[0m     g_idx \u001b[38;5;241m+\u001b[39m\u001b[38;5;241m=\u001b[39m \u001b[38;5;241m1\u001b[39m\n",
      "Cell \u001b[1;32mIn[3], line 44\u001b[0m, in \u001b[0;36mmaxcut_qaoa\u001b[1;34m(G, p_layers, optimizer_steps, seed)\u001b[0m\n\u001b[0;32m     41\u001b[0m opt \u001b[38;5;241m=\u001b[39m qml\u001b[38;5;241m.\u001b[39mGradientDescentOptimizer(stepsize\u001b[38;5;241m=\u001b[39m\u001b[38;5;241m0.1\u001b[39m)\n\u001b[0;32m     43\u001b[0m \u001b[38;5;28;01mfor\u001b[39;00m step \u001b[38;5;129;01min\u001b[39;00m \u001b[38;5;28mrange\u001b[39m(optimizer_steps):\n\u001b[1;32m---> 44\u001b[0m     params \u001b[38;5;241m=\u001b[39m \u001b[43mopt\u001b[49m\u001b[38;5;241;43m.\u001b[39;49m\u001b[43mstep\u001b[49m\u001b[43m(\u001b[49m\u001b[38;5;28;43;01mlambda\u001b[39;49;00m\u001b[43m \u001b[49m\u001b[43mv\u001b[49m\u001b[43m:\u001b[49m\u001b[43m \u001b[49m\u001b[38;5;241;43m-\u001b[39;49m\u001b[43mcircuit\u001b[49m\u001b[43m(\u001b[49m\u001b[43mv\u001b[49m\u001b[43m)\u001b[49m\u001b[43m,\u001b[49m\u001b[43m \u001b[49m\u001b[43mparams\u001b[49m\u001b[43m)\u001b[49m\n\u001b[0;32m     46\u001b[0m \u001b[38;5;66;03m# After optimization\u001b[39;00m\n\u001b[0;32m     47\u001b[0m cut_value \u001b[38;5;241m=\u001b[39m circuit(params)\n",
      "File \u001b[1;32mc:\\Users\\Jakub\\AppData\\Local\\Programs\\Python\\Python312\\Lib\\site-packages\\pennylane\\optimize\\gradient_descent.py:93\u001b[0m, in \u001b[0;36mGradientDescentOptimizer.step\u001b[1;34m(self, objective_fn, grad_fn, *args, **kwargs)\u001b[0m\n\u001b[0;32m     75\u001b[0m \u001b[38;5;28;01mdef\u001b[39;00m \u001b[38;5;21mstep\u001b[39m(\u001b[38;5;28mself\u001b[39m, objective_fn, \u001b[38;5;241m*\u001b[39margs, grad_fn\u001b[38;5;241m=\u001b[39m\u001b[38;5;28;01mNone\u001b[39;00m, \u001b[38;5;241m*\u001b[39m\u001b[38;5;241m*\u001b[39mkwargs):\n\u001b[0;32m     76\u001b[0m \u001b[38;5;250m    \u001b[39m\u001b[38;5;124;03m\"\"\"Update trainable arguments with one step of the optimizer.\u001b[39;00m\n\u001b[0;32m     77\u001b[0m \n\u001b[0;32m     78\u001b[0m \u001b[38;5;124;03m    Args:\u001b[39;00m\n\u001b[1;32m   (...)\u001b[0m\n\u001b[0;32m     90\u001b[0m \u001b[38;5;124;03m        If single arg is provided, list [array] is replaced by array.\u001b[39;00m\n\u001b[0;32m     91\u001b[0m \u001b[38;5;124;03m    \"\"\"\u001b[39;00m\n\u001b[1;32m---> 93\u001b[0m     g, _ \u001b[38;5;241m=\u001b[39m \u001b[38;5;28;43mself\u001b[39;49m\u001b[38;5;241;43m.\u001b[39;49m\u001b[43mcompute_grad\u001b[49m\u001b[43m(\u001b[49m\u001b[43mobjective_fn\u001b[49m\u001b[43m,\u001b[49m\u001b[43m \u001b[49m\u001b[43margs\u001b[49m\u001b[43m,\u001b[49m\u001b[43m \u001b[49m\u001b[43mkwargs\u001b[49m\u001b[43m,\u001b[49m\u001b[43m \u001b[49m\u001b[43mgrad_fn\u001b[49m\u001b[38;5;241;43m=\u001b[39;49m\u001b[43mgrad_fn\u001b[49m\u001b[43m)\u001b[49m\n\u001b[0;32m     94\u001b[0m     new_args \u001b[38;5;241m=\u001b[39m \u001b[38;5;28mself\u001b[39m\u001b[38;5;241m.\u001b[39mapply_grad(g, args)\n\u001b[0;32m     96\u001b[0m     \u001b[38;5;66;03m# unwrap from list if one argument, cleaner return\u001b[39;00m\n",
      "File \u001b[1;32mc:\\Users\\Jakub\\AppData\\Local\\Programs\\Python\\Python312\\Lib\\site-packages\\pennylane\\optimize\\gradient_descent.py:122\u001b[0m, in \u001b[0;36mGradientDescentOptimizer.compute_grad\u001b[1;34m(objective_fn, args, kwargs, grad_fn)\u001b[0m\n\u001b[0;32m    104\u001b[0m \u001b[38;5;250m\u001b[39m\u001b[38;5;124mr\u001b[39m\u001b[38;5;124;03m\"\"\"Compute the gradient of the objective function at the given point and return it along with\u001b[39;00m\n\u001b[0;32m    105\u001b[0m \u001b[38;5;124;03mthe objective function forward pass (if available).\u001b[39;00m\n\u001b[0;32m    106\u001b[0m \n\u001b[1;32m   (...)\u001b[0m\n\u001b[0;32m    119\u001b[0m \u001b[38;5;124;03m    will not be evaluated and instead ``None`` will be returned.\u001b[39;00m\n\u001b[0;32m    120\u001b[0m \u001b[38;5;124;03m\"\"\"\u001b[39;00m\n\u001b[0;32m    121\u001b[0m g \u001b[38;5;241m=\u001b[39m get_gradient(objective_fn) \u001b[38;5;28;01mif\u001b[39;00m grad_fn \u001b[38;5;129;01mis\u001b[39;00m \u001b[38;5;28;01mNone\u001b[39;00m \u001b[38;5;28;01melse\u001b[39;00m grad_fn\n\u001b[1;32m--> 122\u001b[0m grad \u001b[38;5;241m=\u001b[39m \u001b[43mg\u001b[49m\u001b[43m(\u001b[49m\u001b[38;5;241;43m*\u001b[39;49m\u001b[43margs\u001b[49m\u001b[43m,\u001b[49m\u001b[43m \u001b[49m\u001b[38;5;241;43m*\u001b[39;49m\u001b[38;5;241;43m*\u001b[39;49m\u001b[43mkwargs\u001b[49m\u001b[43m)\u001b[49m\n\u001b[0;32m    123\u001b[0m forward \u001b[38;5;241m=\u001b[39m \u001b[38;5;28mgetattr\u001b[39m(g, \u001b[38;5;124m\"\u001b[39m\u001b[38;5;124mforward\u001b[39m\u001b[38;5;124m\"\u001b[39m, \u001b[38;5;28;01mNone\u001b[39;00m)\n\u001b[0;32m    125\u001b[0m num_trainable_args \u001b[38;5;241m=\u001b[39m \u001b[38;5;28msum\u001b[39m(\u001b[38;5;28mgetattr\u001b[39m(arg, \u001b[38;5;124m\"\u001b[39m\u001b[38;5;124mrequires_grad\u001b[39m\u001b[38;5;124m\"\u001b[39m, \u001b[38;5;28;01mFalse\u001b[39;00m) \u001b[38;5;28;01mfor\u001b[39;00m arg \u001b[38;5;129;01min\u001b[39;00m args)\n",
      "File \u001b[1;32mc:\\Users\\Jakub\\AppData\\Local\\Programs\\Python\\Python312\\Lib\\site-packages\\pennylane\\_grad.py:224\u001b[0m, in \u001b[0;36mgrad.__call__\u001b[1;34m(self, *args, **kwargs)\u001b[0m\n\u001b[0;32m    221\u001b[0m     \u001b[38;5;28mself\u001b[39m\u001b[38;5;241m.\u001b[39m_forward \u001b[38;5;241m=\u001b[39m \u001b[38;5;28mself\u001b[39m\u001b[38;5;241m.\u001b[39m_fun(\u001b[38;5;241m*\u001b[39margs, \u001b[38;5;241m*\u001b[39m\u001b[38;5;241m*\u001b[39mkwargs)\n\u001b[0;32m    222\u001b[0m     \u001b[38;5;28;01mreturn\u001b[39;00m ()\n\u001b[1;32m--> 224\u001b[0m grad_value, ans \u001b[38;5;241m=\u001b[39m \u001b[43mgrad_fn\u001b[49m\u001b[43m(\u001b[49m\u001b[38;5;241;43m*\u001b[39;49m\u001b[43margs\u001b[49m\u001b[43m,\u001b[49m\u001b[43m \u001b[49m\u001b[38;5;241;43m*\u001b[39;49m\u001b[38;5;241;43m*\u001b[39;49m\u001b[43mkwargs\u001b[49m\u001b[43m)\u001b[49m  \u001b[38;5;66;03m# pylint: disable=not-callable\u001b[39;00m\n\u001b[0;32m    225\u001b[0m \u001b[38;5;28mself\u001b[39m\u001b[38;5;241m.\u001b[39m_forward \u001b[38;5;241m=\u001b[39m ans\n\u001b[0;32m    227\u001b[0m \u001b[38;5;28;01mreturn\u001b[39;00m grad_value\n",
      "File \u001b[1;32mc:\\Users\\Jakub\\AppData\\Local\\Programs\\Python\\Python312\\Lib\\site-packages\\autograd\\wrap_util.py:23\u001b[0m, in \u001b[0;36munary_to_nary.<locals>.nary_operator.<locals>.nary_f\u001b[1;34m(*args, **kwargs)\u001b[0m\n\u001b[0;32m     21\u001b[0m \u001b[38;5;28;01melse\u001b[39;00m:\n\u001b[0;32m     22\u001b[0m     x \u001b[38;5;241m=\u001b[39m \u001b[38;5;28mtuple\u001b[39m(args[i] \u001b[38;5;28;01mfor\u001b[39;00m i \u001b[38;5;129;01min\u001b[39;00m argnum)\n\u001b[1;32m---> 23\u001b[0m \u001b[38;5;28;01mreturn\u001b[39;00m \u001b[43munary_operator\u001b[49m\u001b[43m(\u001b[49m\u001b[43munary_f\u001b[49m\u001b[43m,\u001b[49m\u001b[43m \u001b[49m\u001b[43mx\u001b[49m\u001b[43m,\u001b[49m\u001b[43m \u001b[49m\u001b[38;5;241;43m*\u001b[39;49m\u001b[43mnary_op_args\u001b[49m\u001b[43m,\u001b[49m\u001b[43m \u001b[49m\u001b[38;5;241;43m*\u001b[39;49m\u001b[38;5;241;43m*\u001b[39;49m\u001b[43mnary_op_kwargs\u001b[49m\u001b[43m)\u001b[49m\n",
      "File \u001b[1;32mc:\\Users\\Jakub\\AppData\\Local\\Programs\\Python\\Python312\\Lib\\site-packages\\pennylane\\_grad.py:242\u001b[0m, in \u001b[0;36mgrad._grad_with_forward\u001b[1;34m(fun, x)\u001b[0m\n\u001b[0;32m    236\u001b[0m \u001b[38;5;129m@staticmethod\u001b[39m\n\u001b[0;32m    237\u001b[0m \u001b[38;5;129m@unary_to_nary\u001b[39m\n\u001b[0;32m    238\u001b[0m \u001b[38;5;28;01mdef\u001b[39;00m \u001b[38;5;21m_grad_with_forward\u001b[39m(fun, x):\n\u001b[0;32m    239\u001b[0m \u001b[38;5;250m    \u001b[39m\u001b[38;5;124;03m\"\"\"This function is a replica of ``autograd.grad``, with the only\u001b[39;00m\n\u001b[0;32m    240\u001b[0m \u001b[38;5;124;03m    difference being that it returns both the gradient *and* the forward pass\u001b[39;00m\n\u001b[0;32m    241\u001b[0m \u001b[38;5;124;03m    value.\"\"\"\u001b[39;00m\n\u001b[1;32m--> 242\u001b[0m     vjp, ans \u001b[38;5;241m=\u001b[39m \u001b[43m_make_vjp\u001b[49m\u001b[43m(\u001b[49m\u001b[43mfun\u001b[49m\u001b[43m,\u001b[49m\u001b[43m \u001b[49m\u001b[43mx\u001b[49m\u001b[43m)\u001b[49m  \u001b[38;5;66;03m# pylint: disable=redefined-outer-name\u001b[39;00m\n\u001b[0;32m    244\u001b[0m     \u001b[38;5;28;01mif\u001b[39;00m vspace(ans)\u001b[38;5;241m.\u001b[39msize \u001b[38;5;241m!=\u001b[39m \u001b[38;5;241m1\u001b[39m:\n\u001b[0;32m    245\u001b[0m         \u001b[38;5;28;01mraise\u001b[39;00m \u001b[38;5;167;01mTypeError\u001b[39;00m(\n\u001b[0;32m    246\u001b[0m             \u001b[38;5;124m\"\u001b[39m\u001b[38;5;124mGrad only applies to real scalar-output functions. \u001b[39m\u001b[38;5;124m\"\u001b[39m\n\u001b[0;32m    247\u001b[0m             \u001b[38;5;124m\"\u001b[39m\u001b[38;5;124mTry jacobian, elementwise_grad or holomorphic_grad.\u001b[39m\u001b[38;5;124m\"\u001b[39m\n\u001b[0;32m    248\u001b[0m         )\n",
      "File \u001b[1;32mc:\\Users\\Jakub\\AppData\\Local\\Programs\\Python\\Python312\\Lib\\site-packages\\autograd\\core.py:12\u001b[0m, in \u001b[0;36mmake_vjp\u001b[1;34m(fun, x)\u001b[0m\n\u001b[0;32m     10\u001b[0m \u001b[38;5;28;01mdef\u001b[39;00m \u001b[38;5;21mmake_vjp\u001b[39m(fun, x):\n\u001b[0;32m     11\u001b[0m     start_node \u001b[38;5;241m=\u001b[39m VJPNode\u001b[38;5;241m.\u001b[39mnew_root()\n\u001b[1;32m---> 12\u001b[0m     end_value, end_node \u001b[38;5;241m=\u001b[39m \u001b[43mtrace\u001b[49m\u001b[43m(\u001b[49m\u001b[43mstart_node\u001b[49m\u001b[43m,\u001b[49m\u001b[43m \u001b[49m\u001b[43mfun\u001b[49m\u001b[43m,\u001b[49m\u001b[43m \u001b[49m\u001b[43mx\u001b[49m\u001b[43m)\u001b[49m\n\u001b[0;32m     13\u001b[0m     \u001b[38;5;28;01mif\u001b[39;00m end_node \u001b[38;5;129;01mis\u001b[39;00m \u001b[38;5;28;01mNone\u001b[39;00m:\n\u001b[0;32m     15\u001b[0m         \u001b[38;5;28;01mdef\u001b[39;00m \u001b[38;5;21mvjp\u001b[39m(g):\n",
      "File \u001b[1;32mc:\\Users\\Jakub\\AppData\\Local\\Programs\\Python\\Python312\\Lib\\site-packages\\autograd\\tracer.py:12\u001b[0m, in \u001b[0;36mtrace\u001b[1;34m(start_node, fun, x)\u001b[0m\n\u001b[0;32m     10\u001b[0m \u001b[38;5;28;01mwith\u001b[39;00m trace_stack\u001b[38;5;241m.\u001b[39mnew_trace() \u001b[38;5;28;01mas\u001b[39;00m t:\n\u001b[0;32m     11\u001b[0m     start_box \u001b[38;5;241m=\u001b[39m new_box(x, t, start_node)\n\u001b[1;32m---> 12\u001b[0m     end_box \u001b[38;5;241m=\u001b[39m \u001b[43mfun\u001b[49m\u001b[43m(\u001b[49m\u001b[43mstart_box\u001b[49m\u001b[43m)\u001b[49m\n\u001b[0;32m     13\u001b[0m     \u001b[38;5;28;01mif\u001b[39;00m isbox(end_box) \u001b[38;5;129;01mand\u001b[39;00m end_box\u001b[38;5;241m.\u001b[39m_trace \u001b[38;5;241m==\u001b[39m start_box\u001b[38;5;241m.\u001b[39m_trace:\n\u001b[0;32m     14\u001b[0m         \u001b[38;5;28;01mreturn\u001b[39;00m end_box\u001b[38;5;241m.\u001b[39m_value, end_box\u001b[38;5;241m.\u001b[39m_node\n",
      "File \u001b[1;32mc:\\Users\\Jakub\\AppData\\Local\\Programs\\Python\\Python312\\Lib\\site-packages\\autograd\\wrap_util.py:17\u001b[0m, in \u001b[0;36munary_to_nary.<locals>.nary_operator.<locals>.nary_f.<locals>.unary_f\u001b[1;34m(x)\u001b[0m\n\u001b[0;32m     15\u001b[0m \u001b[38;5;28;01melse\u001b[39;00m:\n\u001b[0;32m     16\u001b[0m     subargs \u001b[38;5;241m=\u001b[39m subvals(args, \u001b[38;5;28mzip\u001b[39m(argnum, x))\n\u001b[1;32m---> 17\u001b[0m \u001b[38;5;28;01mreturn\u001b[39;00m \u001b[43mfun\u001b[49m\u001b[43m(\u001b[49m\u001b[38;5;241;43m*\u001b[39;49m\u001b[43msubargs\u001b[49m\u001b[43m,\u001b[49m\u001b[43m \u001b[49m\u001b[38;5;241;43m*\u001b[39;49m\u001b[38;5;241;43m*\u001b[39;49m\u001b[43mkwargs\u001b[49m\u001b[43m)\u001b[49m\n",
      "Cell \u001b[1;32mIn[3], line 44\u001b[0m, in \u001b[0;36mmaxcut_qaoa.<locals>.<lambda>\u001b[1;34m(v)\u001b[0m\n\u001b[0;32m     41\u001b[0m opt \u001b[38;5;241m=\u001b[39m qml\u001b[38;5;241m.\u001b[39mGradientDescentOptimizer(stepsize\u001b[38;5;241m=\u001b[39m\u001b[38;5;241m0.1\u001b[39m)\n\u001b[0;32m     43\u001b[0m \u001b[38;5;28;01mfor\u001b[39;00m step \u001b[38;5;129;01min\u001b[39;00m \u001b[38;5;28mrange\u001b[39m(optimizer_steps):\n\u001b[1;32m---> 44\u001b[0m     params \u001b[38;5;241m=\u001b[39m opt\u001b[38;5;241m.\u001b[39mstep(\u001b[38;5;28;01mlambda\u001b[39;00m v: \u001b[38;5;241;43m-\u001b[39;49m\u001b[43mcircuit\u001b[49m\u001b[43m(\u001b[49m\u001b[43mv\u001b[49m\u001b[43m)\u001b[49m, params)\n\u001b[0;32m     46\u001b[0m \u001b[38;5;66;03m# After optimization\u001b[39;00m\n\u001b[0;32m     47\u001b[0m cut_value \u001b[38;5;241m=\u001b[39m circuit(params)\n",
      "File \u001b[1;32mc:\\Users\\Jakub\\AppData\\Local\\Programs\\Python\\Python312\\Lib\\site-packages\\autograd\\numpy\\numpy_boxes.py:38\u001b[0m, in \u001b[0;36mArrayBox.__neg__\u001b[1;34m(self)\u001b[0m\n\u001b[0;32m     37\u001b[0m \u001b[38;5;28;01mdef\u001b[39;00m \u001b[38;5;21m__neg__\u001b[39m(\u001b[38;5;28mself\u001b[39m):\n\u001b[1;32m---> 38\u001b[0m     \u001b[38;5;28;01mreturn\u001b[39;00m \u001b[43manp\u001b[49m\u001b[38;5;241;43m.\u001b[39;49m\u001b[43mnegative\u001b[49m\u001b[43m(\u001b[49m\u001b[38;5;28;43mself\u001b[39;49m\u001b[43m)\u001b[49m\n",
      "File \u001b[1;32mc:\\Users\\Jakub\\AppData\\Local\\Programs\\Python\\Python312\\Lib\\site-packages\\autograd\\tracer.py:52\u001b[0m, in \u001b[0;36mprimitive.<locals>.f_wrapped\u001b[1;34m(*args, **kwargs)\u001b[0m\n\u001b[0;32m     50\u001b[0m     ans \u001b[38;5;241m=\u001b[39m f_wrapped(\u001b[38;5;241m*\u001b[39margvals, \u001b[38;5;241m*\u001b[39m\u001b[38;5;241m*\u001b[39mkwargs)\n\u001b[0;32m     51\u001b[0m     node \u001b[38;5;241m=\u001b[39m node_constructor(ans, f_wrapped, argvals, kwargs, argnums, parents)\n\u001b[1;32m---> 52\u001b[0m     \u001b[38;5;28;01mreturn\u001b[39;00m \u001b[43mnew_box\u001b[49m\u001b[43m(\u001b[49m\u001b[43mans\u001b[49m\u001b[43m,\u001b[49m\u001b[43m \u001b[49m\u001b[43mtrace\u001b[49m\u001b[43m,\u001b[49m\u001b[43m \u001b[49m\u001b[43mnode\u001b[49m\u001b[43m)\u001b[49m\n\u001b[0;32m     53\u001b[0m \u001b[38;5;28;01melse\u001b[39;00m:\n\u001b[0;32m     54\u001b[0m     \u001b[38;5;28;01mreturn\u001b[39;00m f_raw(\u001b[38;5;241m*\u001b[39margs, \u001b[38;5;241m*\u001b[39m\u001b[38;5;241m*\u001b[39mkwargs)\n",
      "File \u001b[1;32mc:\\Users\\Jakub\\AppData\\Local\\Programs\\Python\\Python312\\Lib\\site-packages\\autograd\\tracer.py:141\u001b[0m, in \u001b[0;36mnew_box\u001b[1;34m(value, trace, node)\u001b[0m\n\u001b[0;32m    139\u001b[0m     \u001b[38;5;28;01mreturn\u001b[39;00m box_type_mappings[\u001b[38;5;28mtype\u001b[39m(value)](value, trace, node)\n\u001b[0;32m    140\u001b[0m \u001b[38;5;28;01mexcept\u001b[39;00m \u001b[38;5;167;01mKeyError\u001b[39;00m:\n\u001b[1;32m--> 141\u001b[0m     \u001b[38;5;28;01mraise\u001b[39;00m \u001b[38;5;167;01mTypeError\u001b[39;00m(\u001b[38;5;124mf\u001b[39m\u001b[38;5;124m\"\u001b[39m\u001b[38;5;124mCan\u001b[39m\u001b[38;5;124m'\u001b[39m\u001b[38;5;124mt differentiate w.r.t. type \u001b[39m\u001b[38;5;132;01m{\u001b[39;00m\u001b[38;5;28mtype\u001b[39m(value)\u001b[38;5;132;01m}\u001b[39;00m\u001b[38;5;124m\"\u001b[39m)\n",
      "\u001b[1;31mTypeError\u001b[0m: Can't differentiate w.r.t. type <class 'numpy.int64'>"
     ]
    }
   ],
   "source": [
    "sizes = [4, 6, 8, 10]\n",
    "edge_prob = 0.5\n",
    "time_per_size = 900\n",
    "p_layers = 1\n",
    "optimizer_steps = 50\n",
    "\n",
    "cut_values = run_qaoa_experiment_time_budget(sizes, edge_prob, time_per_size, p_layers, optimizer_steps)\n",
    "\n",
    "df = pd.DataFrame({\n",
    "    'Graph Size': np.repeat(sizes, [len(cut) for cut in cut_values]),\n",
    "    'Cut Value': np.concatenate(cut_values)\n",
    "})\n",
    "\n",
    "# Save csv\n",
    "os.makedirs('data/qaoa-data', exist_ok=True)\n",
    "timestamp = datetime.now().strftime(\"%Y%m%d-%H%M%S\")\n",
    "csv_path = f'data/qaoa-data/qaoa_{timestamp}.csv'\n",
    "df.to_csv(csv_path, index=False)\n",
    "print(f\"Results saved to {csv_path}\")\n",
    "\n",
    "# Save plot\n",
    "timestamp = datetime.now().strftime(\"%Y%m%d-%H%M%S\")\n",
    "plot_path = f'plots/qaoa-plots/qaoa_violin_{timestamp}.png'\n",
    "\n",
    "plt.figure(figsize=(12, 6))\n",
    "sns.violinplot(x='Graph Size', y='Cut Value', data=df, inner='quartile')\n",
    "plt.title('QAOA Max-Cut Values by Graph Size')\n",
    "plt.xlabel('Graph Size')\n",
    "plt.ylabel('Cut Value')\n",
    "plt.xticks(rotation=45)\n",
    "plt.tight_layout()\n",
    "plt.savefig(plot_path)\n",
    "print(f\"Plot saved to {plot_path}\")\n",
    "plt.show()"
   ]
  }
 ],
 "metadata": {
  "kernelspec": {
   "display_name": "Python 3",
   "language": "python",
   "name": "python3"
  },
  "language_info": {
   "codemirror_mode": {
    "name": "ipython",
    "version": 3
   },
   "file_extension": ".py",
   "mimetype": "text/x-python",
   "name": "python",
   "nbconvert_exporter": "python",
   "pygments_lexer": "ipython3",
   "version": "3.12.1"
  }
 },
 "nbformat": 4,
 "nbformat_minor": 5
}
