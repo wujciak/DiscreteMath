{
 "cells": [
  {
   "cell_type": "markdown",
   "id": "c62040bd",
   "metadata": {},
   "source": [
    "# QAOA \n",
    "Reference: https://pennylane.ai/qml/demos/tutorial_qaoa_maxcut"
   ]
  },
  {
   "cell_type": "code",
   "execution_count": 7,
   "id": "32862586",
   "metadata": {},
   "outputs": [],
   "source": [
    "import pennylane as qml\n",
    "from pennylane import numpy as np\n",
    "import networkx as nx\n",
    "import matplotlib.pyplot as plt\n",
    "import time\n",
    "import pandas as pd\n",
    "import seaborn as sns\n",
    "import os\n",
    "from datetime import datetime\n",
    "from pennylane import qaoa"
   ]
  },
  {
   "cell_type": "markdown",
   "id": "76daee38",
   "metadata": {},
   "source": [
    "## Graph generating function"
   ]
  },
  {
   "cell_type": "code",
   "execution_count": 8,
   "id": "d58b56de",
   "metadata": {},
   "outputs": [],
   "source": [
    "def generate_random_graph(n_nodes=8, p=0.5, seed=None):\n",
    "    G = nx.erdos_renyi_graph(n_nodes, p, seed=seed)\n",
    "    for (u, v) in G.edges():\n",
    "        G.edges[u, v]['weight'] = np.random.randint(1, 10)\n",
    "    return G"
   ]
  },
  {
   "cell_type": "markdown",
   "id": "31bf3169",
   "metadata": {},
   "source": [
    "## Algorithm function"
   ]
  },
  {
   "cell_type": "code",
   "execution_count": 9,
   "id": "3604b88b",
   "metadata": {},
   "outputs": [],
   "source": [
    "def maxcut_qaoa(G, p_layers=1, optimizer_steps=50, seed=None):\n",
    "    np.random.seed(seed)\n",
    "    n = G.number_of_nodes()\n",
    "    edges = list(G.edges())\n",
    "    dev = qml.device(\"default.qubit\", wires=n)\n",
    "\n",
    "    # Build cost Hamiltonian using PennyLane's built-in function\n",
    "    cost_h, _ = qaoa.maxcut(G)\n",
    "\n",
    "    def qaoa_layer(gamma, beta):\n",
    "        # Cost layer\n",
    "        for (i, j) in edges:\n",
    "            qml.CNOT(wires=[i, j])\n",
    "            qml.RZ(-gamma, wires=j)\n",
    "            qml.CNOT(wires=[i, j])\n",
    "        # Mixer layer\n",
    "        for i in range(n):\n",
    "            qml.RX(2 * beta, wires=i)\n",
    "\n",
    "    @qml.qnode(dev)\n",
    "    def circuit(params):\n",
    "        # Initial state\n",
    "        for i in range(n):\n",
    "            qml.Hadamard(wires=i)\n",
    "        # QAOA layers\n",
    "        for l in range(p_layers):\n",
    "            qaoa_layer(params[l, 0], params[l, 1])\n",
    "        return qml.expval(cost_h)\n",
    "\n",
    "    # Initial parameters\n",
    "    params = 0.01 * np.random.randn(p_layers, 2)\n",
    "    opt = qml.GradientDescentOptimizer(stepsize=0.1)\n",
    "\n",
    "    for step in range(optimizer_steps):\n",
    "        params = opt.step(lambda v: -circuit(v), params)\n",
    "\n",
    "    cut_value = circuit(params)\n",
    "    return cut_value"
   ]
  },
  {
   "cell_type": "markdown",
   "id": "76a27dd3",
   "metadata": {},
   "source": [
    "## Experiment function"
   ]
  },
  {
   "cell_type": "code",
   "execution_count": 10,
   "id": "2e8f55f9",
   "metadata": {},
   "outputs": [],
   "source": [
    "def run_qaoa_experiment_time_budget(sizes, edge_prob=0.5, time_per_size=420, p_layers=1, optimizer_steps=50):\n",
    "    all_cut_values = []\n",
    "    for n_nodes in sizes:\n",
    "        cut_values = []\n",
    "        start_time = time.time()\n",
    "        g_idx = 0\n",
    "        while time.time() - start_time < time_per_size:\n",
    "            G = generate_random_graph(n_nodes=n_nodes, p=edge_prob, seed=g_idx)\n",
    "            value = maxcut_qaoa(G, p_layers=p_layers, optimizer_steps=optimizer_steps, seed=g_idx)\n",
    "            cut_values.append(value)\n",
    "            g_idx += 1\n",
    "        all_cut_values.append(cut_values)\n",
    "        print(f\"Size: {n_nodes} | Graphs: {g_idx} | Mean Cut: {np.mean(cut_values):.2f} | Std: {np.std(cut_values):.2f}\")\n",
    "    return all_cut_values"
   ]
  },
  {
   "cell_type": "markdown",
   "id": "f495a6a2",
   "metadata": {},
   "source": [
    "## Experiment and results save"
   ]
  },
  {
   "cell_type": "code",
   "execution_count": 11,
   "id": "ab8a1637",
   "metadata": {},
   "outputs": [
    {
     "name": "stdout",
     "output_type": "stream",
     "text": [
      "Size: 6 | Graphs: 1 | Mean Cut: -3.28 | Std: 0.00\n",
      "Size: 8 | Graphs: 1 | Mean Cut: -5.11 | Std: 0.00\n",
      "Size: 10 | Graphs: 1 | Mean Cut: -9.46 | Std: 0.00\n",
      "Size: 12 | Graphs: 1 | Mean Cut: -12.75 | Std: 0.00\n",
      "Results saved to data/qaoa-data/qaoa_20250615-195332.csv\n",
      "Plot saved to plots/qaoa-plots/qaoa_violin_20250615-195332.png\n"
     ]
    },
    {
     "data": {
      "image/png": "[encoded data removed]",
      "text/plain": [
       "<Figure size 1200x600 with 1 Axes>"
      ]
     },
     "metadata": {},
     "output_type": "display_data"
    }
   ],
   "source": [
    "sizes = [6, 8, 10, 12]\n",
    "edge_prob = 0.5\n",
    "time_per_size = 45\n",
    "num_rounds = 50\n",
    "\n",
    "cut_values = run_qaoa_experiment_time_budget(sizes, edge_prob, time_per_size, num_rounds)\n",
    "\n",
    "df = pd.DataFrame({\n",
    "    'Graph Size': np.repeat(sizes, [len(cut) for cut in cut_values]),\n",
    "    'Cut Value': np.concatenate(cut_values)\n",
    "})\n",
    "\n",
    "# Save csv\n",
    "os.makedirs('data/qaoa-data', exist_ok=True)\n",
    "timestamp = datetime.now().strftime(\"%Y%m%d-%H%M%S\")\n",
    "csv_path = f'data/qaoa-data/qaoa_{timestamp}.csv'\n",
    "df.to_csv(csv_path, index=False)\n",
    "print(f\"Results saved to {csv_path}\")\n",
    "\n",
    "# Save plot\n",
    "timestamp = datetime.now().strftime(\"%Y%m%d-%H%M%S\")\n",
    "plot_path = f'plots/qaoa-plots/qaoa_violin_{timestamp}.png'\n",
    "\n",
    "plt.figure(figsize=(12, 6))\n",
    "sns.violinplot(x='Graph Size', y='Cut Value', data=df, inner='quartile')\n",
    "plt.title('QAOA Max-Cut Values by Graph Size')\n",
    "plt.xlabel('Graph Size')\n",
    "plt.ylabel('Cut Value')\n",
    "plt.xticks(rotation=45)\n",
    "plt.tight_layout()\n",
    "plt.savefig(plot_path)\n",
    "print(f\"Plot saved to {plot_path}\")\n",
    "plt.show()"
   ]
  }
 ],
 "metadata": {
  "kernelspec": {
   "display_name": "Python 3",
   "language": "python",
   "name": "python3"
  },
  "language_info": {
   "codemirror_mode": {
    "name": "ipython",
    "version": 3
   },
   "file_extension": ".py",
   "mimetype": "text/x-python",
   "name": "python",
   "nbconvert_exporter": "python",
   "pygments_lexer": "ipython3",
   "version": "3.12.1"
  }
 },
 "nbformat": 4,
 "nbformat_minor": 5
}
