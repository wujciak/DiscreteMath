{
 "cells": [
  {
   "cell_type": "markdown",
   "id": "c62040bd",
   "metadata": {},
   "source": [
    "# QAOA \n",
    "Reference: https://pennylane.ai/qml/demos/tutorial_qaoa_maxcut"
   ]
  },
  {
   "cell_type": "code",
   "execution_count": 56,
   "id": "32862586",
   "metadata": {},
   "outputs": [],
   "source": [
    "import pennylane as qml\n",
    "from pennylane import numpy as np\n",
    "import networkx as nx\n",
    "import matplotlib.pyplot as plt\n",
    "import time\n",
    "import pandas as pd\n",
    "import seaborn as sns\n",
    "import os\n",
    "from datetime import datetime\n",
    "from pennylane import qaoa"
   ]
  },
  {
   "cell_type": "markdown",
   "id": "76daee38",
   "metadata": {},
   "source": [
    "## Graph generating function"
   ]
  },
  {
   "cell_type": "code",
   "execution_count": 57,
   "id": "d58b56de",
   "metadata": {},
   "outputs": [],
   "source": [
    "def generate_random_graph(n_nodes=8, p=0.5, seed=None):\n",
    "    G = nx.erdos_renyi_graph(n_nodes, p, seed=seed)\n",
    "    for (u, v) in G.edges():\n",
    "        G.edges[u, v]['weight'] = float(np.random.uniform(1, 10))\n",
    "    G = nx.convert_node_labels_to_integers(G)\n",
    "    return G"
   ]
  },
  {
   "cell_type": "markdown",
   "id": "31bf3169",
   "metadata": {},
   "source": [
    "## Algorithm function"
   ]
  },
  {
   "cell_type": "code",
   "execution_count": 58,
   "id": "3604b88b",
   "metadata": {},
   "outputs": [],
   "source": [
    "def maxcut_qaoa(G, p_layers=1, optimizer_steps=50, seed=None):\n",
    "    np.random.seed(seed)\n",
    "    n = G.number_of_nodes()\n",
    "    dev = qml.device(\"default.qubit\", wires=n)\n",
    "\n",
    "    cost_h, mixer_h = qaoa.maxcut(G)\n",
    "\n",
    "    @qml.qnode(dev)\n",
    "    def circuit(params):\n",
    "        for i in range(p_layers):\n",
    "            qml.qaoa.cost_layer(params[i][0], cost_h)\n",
    "            qml.qaoa.mixer_layer(params[i][1], mixer_h)\n",
    "        return qml.expval(cost_h)\n",
    "\n",
    "    params = 0.01 * np.random.randn(p_layers, 2)\n",
    "    params = qml.numpy.array(params, requires_grad=True)\n",
    "    opt = qml.GradientDescentOptimizer(stepsize=0.1)\n",
    "\n",
    "    for step in range(optimizer_steps):\n",
    "        params = opt.step(lambda v: circuit(v), params)  # Minimize expectation value\n",
    "\n",
    "    cut_value = -circuit(params)  # Negate to get the Max-Cut value\n",
    "    return None, float(cut_value)"
   ]
  },
  {
   "cell_type": "markdown",
   "id": "76a27dd3",
   "metadata": {},
   "source": [
    "## Experiment function"
   ]
  },
  {
   "cell_type": "code",
   "execution_count": 59,
   "id": "2e8f55f9",
   "metadata": {},
   "outputs": [],
   "source": [
    "def run_qaoa_experiment_time_budget(sizes, edge_prob=0.5, time_per_size=420, p_layers=1, optimizer_steps=50):\n",
    "    all_cut_values = []\n",
    "\n",
    "    for n_nodes in sizes:\n",
    "        cut_values = []\n",
    "        start_time = time.time()\n",
    "        g_idx = 0\n",
    "\n",
    "        while time.time() - start_time < time_per_size:\n",
    "            G = generate_random_graph(n_nodes=n_nodes, p=edge_prob, seed=g_idx)\n",
    "            if G.number_of_edges() == 0:\n",
    "                # Skip graphs with no edges\n",
    "                g_idx += 1\n",
    "                continue\n",
    "            _, value = maxcut_qaoa(G, p_layers=p_layers, optimizer_steps=optimizer_steps, seed=g_idx)\n",
    "            cut_values.append(value)\n",
    "            g_idx += 1\n",
    "        all_cut_values.append(cut_values)\n",
    "        print(f\"Size: {n_nodes} | Graphs: {g_idx} | Mean Cut: {np.mean(cut_values):.2f} | Std: {np.std(cut_values):.2f}\")\n",
    "    \n",
    "    return all_cut_values"
   ]
  },
  {
   "cell_type": "markdown",
   "id": "f495a6a2",
   "metadata": {},
   "source": [
    "## Experiment and results save"
   ]
  },
  {
   "cell_type": "code",
   "execution_count": 60,
   "id": "ab8a1637",
   "metadata": {},
   "outputs": [
    {
     "name": "stdout",
     "output_type": "stream",
     "text": [
      "Size: 4 | Graphs: 1434 | Mean Cut: 1.53 | Std: 0.56\n"
     ]
    },
    {
     "ename": "KeyboardInterrupt",
     "evalue": "",
     "output_type": "error",
     "traceback": [
      "\u001b[31m---------------------------------------------------------------------------\u001b[39m",
      "\u001b[31mKeyboardInterrupt\u001b[39m                         Traceback (most recent call last)",
      "\u001b[36mCell\u001b[39m\u001b[36m \u001b[39m\u001b[32mIn[60]\u001b[39m\u001b[32m, line 7\u001b[39m\n\u001b[32m      4\u001b[39m p_layers = \u001b[32m1\u001b[39m\n\u001b[32m      5\u001b[39m optimizer_steps = \u001b[32m50\u001b[39m\n\u001b[32m----> \u001b[39m\u001b[32m7\u001b[39m cut_values = \u001b[43mrun_qaoa_experiment_time_budget\u001b[49m\u001b[43m(\u001b[49m\n\u001b[32m      8\u001b[39m \u001b[43m    \u001b[49m\u001b[43m[\u001b[49m\u001b[38;5;28;43mint\u001b[39;49m\u001b[43m(\u001b[49m\u001b[43ms\u001b[49m\u001b[43m)\u001b[49m\u001b[43m \u001b[49m\u001b[38;5;28;43;01mfor\u001b[39;49;00m\u001b[43m \u001b[49m\u001b[43ms\u001b[49m\u001b[43m \u001b[49m\u001b[38;5;129;43;01min\u001b[39;49;00m\u001b[43m \u001b[49m\u001b[43msizes\u001b[49m\u001b[43m]\u001b[49m\u001b[43m,\u001b[49m\u001b[43m \u001b[49m\n\u001b[32m      9\u001b[39m \u001b[43m    \u001b[49m\u001b[38;5;28;43mfloat\u001b[39;49m\u001b[43m(\u001b[49m\u001b[43medge_prob\u001b[49m\u001b[43m)\u001b[49m\u001b[43m,\u001b[49m\u001b[43m \u001b[49m\n\u001b[32m     10\u001b[39m \u001b[43m    \u001b[49m\u001b[38;5;28;43mint\u001b[39;49m\u001b[43m(\u001b[49m\u001b[43mtime_per_size\u001b[49m\u001b[43m)\u001b[49m\u001b[43m,\u001b[49m\u001b[43m \u001b[49m\n\u001b[32m     11\u001b[39m \u001b[43m    \u001b[49m\u001b[38;5;28;43mint\u001b[39;49m\u001b[43m(\u001b[49m\u001b[43mp_layers\u001b[49m\u001b[43m)\u001b[49m\u001b[43m,\u001b[49m\u001b[43m \u001b[49m\n\u001b[32m     12\u001b[39m \u001b[43m    \u001b[49m\u001b[38;5;28;43mint\u001b[39;49m\u001b[43m(\u001b[49m\u001b[43moptimizer_steps\u001b[49m\u001b[43m)\u001b[49m\n\u001b[32m     13\u001b[39m \u001b[43m)\u001b[49m\n\u001b[32m     15\u001b[39m df = pd.DataFrame({\n\u001b[32m     16\u001b[39m     \u001b[33m'\u001b[39m\u001b[33mGraph Size\u001b[39m\u001b[33m'\u001b[39m: np.repeat(sizes, [\u001b[38;5;28mlen\u001b[39m(cut) \u001b[38;5;28;01mfor\u001b[39;00m cut \u001b[38;5;129;01min\u001b[39;00m cut_values]),\n\u001b[32m     17\u001b[39m     \u001b[33m'\u001b[39m\u001b[33mCut Value\u001b[39m\u001b[33m'\u001b[39m: np.concatenate(cut_values)\n\u001b[32m     18\u001b[39m })\n\u001b[32m     20\u001b[39m \u001b[38;5;66;03m# Save csv\u001b[39;00m\n",
      "\u001b[36mCell\u001b[39m\u001b[36m \u001b[39m\u001b[32mIn[59]\u001b[39m\u001b[32m, line 15\u001b[39m, in \u001b[36mrun_qaoa_experiment_time_budget\u001b[39m\u001b[34m(sizes, edge_prob, time_per_size, p_layers, optimizer_steps)\u001b[39m\n\u001b[32m     13\u001b[39m     g_idx += \u001b[32m1\u001b[39m\n\u001b[32m     14\u001b[39m     \u001b[38;5;28;01mcontinue\u001b[39;00m\n\u001b[32m---> \u001b[39m\u001b[32m15\u001b[39m _, value = \u001b[43mmaxcut_qaoa\u001b[49m\u001b[43m(\u001b[49m\u001b[43mG\u001b[49m\u001b[43m,\u001b[49m\u001b[43m \u001b[49m\u001b[43mp_layers\u001b[49m\u001b[43m=\u001b[49m\u001b[43mp_layers\u001b[49m\u001b[43m,\u001b[49m\u001b[43m \u001b[49m\u001b[43moptimizer_steps\u001b[49m\u001b[43m=\u001b[49m\u001b[43moptimizer_steps\u001b[49m\u001b[43m,\u001b[49m\u001b[43m \u001b[49m\u001b[43mseed\u001b[49m\u001b[43m=\u001b[49m\u001b[43mg_idx\u001b[49m\u001b[43m)\u001b[49m\n\u001b[32m     16\u001b[39m cut_values.append(value)\n\u001b[32m     17\u001b[39m g_idx += \u001b[32m1\u001b[39m\n",
      "\u001b[36mCell\u001b[39m\u001b[36m \u001b[39m\u001b[32mIn[58]\u001b[39m\u001b[32m, line 20\u001b[39m, in \u001b[36mmaxcut_qaoa\u001b[39m\u001b[34m(G, p_layers, optimizer_steps, seed)\u001b[39m\n\u001b[32m     17\u001b[39m opt = qml.GradientDescentOptimizer(stepsize=\u001b[32m0.1\u001b[39m)\n\u001b[32m     19\u001b[39m \u001b[38;5;28;01mfor\u001b[39;00m step \u001b[38;5;129;01min\u001b[39;00m \u001b[38;5;28mrange\u001b[39m(optimizer_steps):\n\u001b[32m---> \u001b[39m\u001b[32m20\u001b[39m     params = \u001b[43mopt\u001b[49m\u001b[43m.\u001b[49m\u001b[43mstep\u001b[49m\u001b[43m(\u001b[49m\u001b[38;5;28;43;01mlambda\u001b[39;49;00m\u001b[43m \u001b[49m\u001b[43mv\u001b[49m\u001b[43m:\u001b[49m\u001b[43m \u001b[49m\u001b[43mcircuit\u001b[49m\u001b[43m(\u001b[49m\u001b[43mv\u001b[49m\u001b[43m)\u001b[49m\u001b[43m,\u001b[49m\u001b[43m \u001b[49m\u001b[43mparams\u001b[49m\u001b[43m)\u001b[49m  \u001b[38;5;66;03m# Minimize expectation value\u001b[39;00m\n\u001b[32m     22\u001b[39m cut_value = -circuit(params)  \u001b[38;5;66;03m# Negate to get the Max-Cut value\u001b[39;00m\n\u001b[32m     23\u001b[39m \u001b[38;5;28;01mreturn\u001b[39;00m \u001b[38;5;28;01mNone\u001b[39;00m, \u001b[38;5;28mfloat\u001b[39m(cut_value)\n",
      "\u001b[36mFile \u001b[39m\u001b[32mc:\\Users\\jakub\\AppData\\Local\\Programs\\Python\\Python312\\Lib\\site-packages\\pennylane\\optimize\\gradient_descent.py:93\u001b[39m, in \u001b[36mGradientDescentOptimizer.step\u001b[39m\u001b[34m(self, objective_fn, grad_fn, *args, **kwargs)\u001b[39m\n\u001b[32m     75\u001b[39m \u001b[38;5;28;01mdef\u001b[39;00m\u001b[38;5;250m \u001b[39m\u001b[34mstep\u001b[39m(\u001b[38;5;28mself\u001b[39m, objective_fn, *args, grad_fn=\u001b[38;5;28;01mNone\u001b[39;00m, **kwargs):\n\u001b[32m     76\u001b[39m \u001b[38;5;250m    \u001b[39m\u001b[33;03m\"\"\"Update trainable arguments with one step of the optimizer.\u001b[39;00m\n\u001b[32m     77\u001b[39m \n\u001b[32m     78\u001b[39m \u001b[33;03m    Args:\u001b[39;00m\n\u001b[32m   (...)\u001b[39m\u001b[32m     90\u001b[39m \u001b[33;03m        If single arg is provided, list [array] is replaced by array.\u001b[39;00m\n\u001b[32m     91\u001b[39m \u001b[33;03m    \"\"\"\u001b[39;00m\n\u001b[32m---> \u001b[39m\u001b[32m93\u001b[39m     g, _ = \u001b[38;5;28;43mself\u001b[39;49m\u001b[43m.\u001b[49m\u001b[43mcompute_grad\u001b[49m\u001b[43m(\u001b[49m\u001b[43mobjective_fn\u001b[49m\u001b[43m,\u001b[49m\u001b[43m \u001b[49m\u001b[43margs\u001b[49m\u001b[43m,\u001b[49m\u001b[43m \u001b[49m\u001b[43mkwargs\u001b[49m\u001b[43m,\u001b[49m\u001b[43m \u001b[49m\u001b[43mgrad_fn\u001b[49m\u001b[43m=\u001b[49m\u001b[43mgrad_fn\u001b[49m\u001b[43m)\u001b[49m\n\u001b[32m     94\u001b[39m     new_args = \u001b[38;5;28mself\u001b[39m.apply_grad(g, args)\n\u001b[32m     96\u001b[39m     \u001b[38;5;66;03m# unwrap from list if one argument, cleaner return\u001b[39;00m\n",
      "\u001b[36mFile \u001b[39m\u001b[32mc:\\Users\\jakub\\AppData\\Local\\Programs\\Python\\Python312\\Lib\\site-packages\\pennylane\\optimize\\gradient_descent.py:122\u001b[39m, in \u001b[36mGradientDescentOptimizer.compute_grad\u001b[39m\u001b[34m(objective_fn, args, kwargs, grad_fn)\u001b[39m\n\u001b[32m    104\u001b[39m \u001b[38;5;250m\u001b[39m\u001b[33mr\u001b[39m\u001b[33;03m\"\"\"Compute the gradient of the objective function at the given point and return it along with\u001b[39;00m\n\u001b[32m    105\u001b[39m \u001b[33;03mthe objective function forward pass (if available).\u001b[39;00m\n\u001b[32m    106\u001b[39m \n\u001b[32m   (...)\u001b[39m\u001b[32m    119\u001b[39m \u001b[33;03m    will not be evaluated and instead ``None`` will be returned.\u001b[39;00m\n\u001b[32m    120\u001b[39m \u001b[33;03m\"\"\"\u001b[39;00m\n\u001b[32m    121\u001b[39m g = get_gradient(objective_fn) \u001b[38;5;28;01mif\u001b[39;00m grad_fn \u001b[38;5;129;01mis\u001b[39;00m \u001b[38;5;28;01mNone\u001b[39;00m \u001b[38;5;28;01melse\u001b[39;00m grad_fn\n\u001b[32m--> \u001b[39m\u001b[32m122\u001b[39m grad = \u001b[43mg\u001b[49m\u001b[43m(\u001b[49m\u001b[43m*\u001b[49m\u001b[43margs\u001b[49m\u001b[43m,\u001b[49m\u001b[43m \u001b[49m\u001b[43m*\u001b[49m\u001b[43m*\u001b[49m\u001b[43mkwargs\u001b[49m\u001b[43m)\u001b[49m\n\u001b[32m    123\u001b[39m forward = \u001b[38;5;28mgetattr\u001b[39m(g, \u001b[33m\"\u001b[39m\u001b[33mforward\u001b[39m\u001b[33m\"\u001b[39m, \u001b[38;5;28;01mNone\u001b[39;00m)\n\u001b[32m    125\u001b[39m num_trainable_args = \u001b[38;5;28msum\u001b[39m(\u001b[38;5;28mgetattr\u001b[39m(arg, \u001b[33m\"\u001b[39m\u001b[33mrequires_grad\u001b[39m\u001b[33m\"\u001b[39m, \u001b[38;5;28;01mFalse\u001b[39;00m) \u001b[38;5;28;01mfor\u001b[39;00m arg \u001b[38;5;129;01min\u001b[39;00m args)\n",
      "\u001b[36mFile \u001b[39m\u001b[32mc:\\Users\\jakub\\AppData\\Local\\Programs\\Python\\Python312\\Lib\\site-packages\\pennylane\\_grad.py:224\u001b[39m, in \u001b[36mgrad.__call__\u001b[39m\u001b[34m(self, *args, **kwargs)\u001b[39m\n\u001b[32m    221\u001b[39m     \u001b[38;5;28mself\u001b[39m._forward = \u001b[38;5;28mself\u001b[39m._fun(*args, **kwargs)\n\u001b[32m    222\u001b[39m     \u001b[38;5;28;01mreturn\u001b[39;00m ()\n\u001b[32m--> \u001b[39m\u001b[32m224\u001b[39m grad_value, ans = \u001b[43mgrad_fn\u001b[49m\u001b[43m(\u001b[49m\u001b[43m*\u001b[49m\u001b[43margs\u001b[49m\u001b[43m,\u001b[49m\u001b[43m \u001b[49m\u001b[43m*\u001b[49m\u001b[43m*\u001b[49m\u001b[43mkwargs\u001b[49m\u001b[43m)\u001b[49m  \u001b[38;5;66;03m# pylint: disable=not-callable\u001b[39;00m\n\u001b[32m    225\u001b[39m \u001b[38;5;28mself\u001b[39m._forward = ans\n\u001b[32m    227\u001b[39m \u001b[38;5;28;01mreturn\u001b[39;00m grad_value\n",
      "\u001b[36mFile \u001b[39m\u001b[32mc:\\Users\\jakub\\AppData\\Local\\Programs\\Python\\Python312\\Lib\\site-packages\\autograd\\wrap_util.py:23\u001b[39m, in \u001b[36munary_to_nary.<locals>.nary_operator.<locals>.nary_f\u001b[39m\u001b[34m(*args, **kwargs)\u001b[39m\n\u001b[32m     21\u001b[39m \u001b[38;5;28;01melse\u001b[39;00m:\n\u001b[32m     22\u001b[39m     x = \u001b[38;5;28mtuple\u001b[39m(args[i] \u001b[38;5;28;01mfor\u001b[39;00m i \u001b[38;5;129;01min\u001b[39;00m argnum)\n\u001b[32m---> \u001b[39m\u001b[32m23\u001b[39m \u001b[38;5;28;01mreturn\u001b[39;00m \u001b[43munary_operator\u001b[49m\u001b[43m(\u001b[49m\u001b[43munary_f\u001b[49m\u001b[43m,\u001b[49m\u001b[43m \u001b[49m\u001b[43mx\u001b[49m\u001b[43m,\u001b[49m\u001b[43m \u001b[49m\u001b[43m*\u001b[49m\u001b[43mnary_op_args\u001b[49m\u001b[43m,\u001b[49m\u001b[43m \u001b[49m\u001b[43m*\u001b[49m\u001b[43m*\u001b[49m\u001b[43mnary_op_kwargs\u001b[49m\u001b[43m)\u001b[49m\n",
      "\u001b[36mFile \u001b[39m\u001b[32mc:\\Users\\jakub\\AppData\\Local\\Programs\\Python\\Python312\\Lib\\site-packages\\pennylane\\_grad.py:250\u001b[39m, in \u001b[36mgrad._grad_with_forward\u001b[39m\u001b[34m(fun, x)\u001b[39m\n\u001b[32m    244\u001b[39m \u001b[38;5;28;01mif\u001b[39;00m vspace(ans).size != \u001b[32m1\u001b[39m:\n\u001b[32m    245\u001b[39m     \u001b[38;5;28;01mraise\u001b[39;00m \u001b[38;5;167;01mTypeError\u001b[39;00m(\n\u001b[32m    246\u001b[39m         \u001b[33m\"\u001b[39m\u001b[33mGrad only applies to real scalar-output functions. \u001b[39m\u001b[33m\"\u001b[39m\n\u001b[32m    247\u001b[39m         \u001b[33m\"\u001b[39m\u001b[33mTry jacobian, elementwise_grad or holomorphic_grad.\u001b[39m\u001b[33m\"\u001b[39m\n\u001b[32m    248\u001b[39m     )\n\u001b[32m--> \u001b[39m\u001b[32m250\u001b[39m grad_value = \u001b[43mvjp\u001b[49m\u001b[43m(\u001b[49m\u001b[43mvspace\u001b[49m\u001b[43m(\u001b[49m\u001b[43mans\u001b[49m\u001b[43m)\u001b[49m\u001b[43m.\u001b[49m\u001b[43mones\u001b[49m\u001b[43m(\u001b[49m\u001b[43m)\u001b[49m\u001b[43m)\u001b[49m\n\u001b[32m    251\u001b[39m \u001b[38;5;28;01mreturn\u001b[39;00m grad_value, ans\n",
      "\u001b[36mFile \u001b[39m\u001b[32mc:\\Users\\jakub\\AppData\\Local\\Programs\\Python\\Python312\\Lib\\site-packages\\autograd\\core.py:20\u001b[39m, in \u001b[36mmake_vjp.<locals>.vjp\u001b[39m\u001b[34m(g)\u001b[39m\n\u001b[32m     19\u001b[39m \u001b[38;5;28;01mdef\u001b[39;00m\u001b[38;5;250m \u001b[39m\u001b[34mvjp\u001b[39m(g):\n\u001b[32m---> \u001b[39m\u001b[32m20\u001b[39m     \u001b[38;5;28;01mreturn\u001b[39;00m \u001b[43mbackward_pass\u001b[49m\u001b[43m(\u001b[49m\u001b[43mg\u001b[49m\u001b[43m,\u001b[49m\u001b[43m \u001b[49m\u001b[43mend_node\u001b[49m\u001b[43m)\u001b[49m\n",
      "\u001b[36mFile \u001b[39m\u001b[32mc:\\Users\\jakub\\AppData\\Local\\Programs\\Python\\Python312\\Lib\\site-packages\\autograd\\core.py:29\u001b[39m, in \u001b[36mbackward_pass\u001b[39m\u001b[34m(g, end_node)\u001b[39m\n\u001b[32m     27\u001b[39m \u001b[38;5;28;01mfor\u001b[39;00m node \u001b[38;5;129;01min\u001b[39;00m toposort(end_node):\n\u001b[32m     28\u001b[39m     outgrad = outgrads.pop(node)\n\u001b[32m---> \u001b[39m\u001b[32m29\u001b[39m     ingrads = \u001b[43mnode\u001b[49m\u001b[43m.\u001b[49m\u001b[43mvjp\u001b[49m\u001b[43m(\u001b[49m\u001b[43moutgrad\u001b[49m\u001b[43m[\u001b[49m\u001b[32;43m0\u001b[39;49m\u001b[43m]\u001b[49m\u001b[43m)\u001b[49m\n\u001b[32m     30\u001b[39m     \u001b[38;5;28;01mfor\u001b[39;00m parent, ingrad \u001b[38;5;129;01min\u001b[39;00m \u001b[38;5;28mzip\u001b[39m(node.parents, ingrads):\n\u001b[32m     31\u001b[39m         outgrads[parent] = add_outgrads(outgrads.get(parent), ingrad)\n",
      "\u001b[36mFile \u001b[39m\u001b[32mc:\\Users\\jakub\\AppData\\Local\\Programs\\Python\\Python312\\Lib\\site-packages\\autograd\\core.py:83\u001b[39m, in \u001b[36mdefvjp.<locals>.vjp_argnums.<locals>.<lambda>\u001b[39m\u001b[34m(g)\u001b[39m\n\u001b[32m     81\u001b[39m         \u001b[38;5;28;01mraise\u001b[39;00m \u001b[38;5;167;01mNotImplementedError\u001b[39;00m(\u001b[33mf\u001b[39m\u001b[33m\"\u001b[39m\u001b[33mVJP of \u001b[39m\u001b[38;5;132;01m{\u001b[39;00mfun.\u001b[34m__name__\u001b[39m\u001b[38;5;132;01m}\u001b[39;00m\u001b[33m wrt argnum 0 not defined\u001b[39m\u001b[33m\"\u001b[39m)\n\u001b[32m     82\u001b[39m     vjp = vjpfun(ans, *args, **kwargs)\n\u001b[32m---> \u001b[39m\u001b[32m83\u001b[39m     \u001b[38;5;28;01mreturn\u001b[39;00m \u001b[38;5;28;01mlambda\u001b[39;00m g: (\u001b[43mvjp\u001b[49m\u001b[43m(\u001b[49m\u001b[43mg\u001b[49m\u001b[43m)\u001b[49m,)\n\u001b[32m     84\u001b[39m \u001b[38;5;28;01melif\u001b[39;00m L == \u001b[32m2\u001b[39m:\n\u001b[32m     85\u001b[39m     argnum_0, argnum_1 = argnums\n",
      "\u001b[36mFile \u001b[39m\u001b[32mc:\\Users\\jakub\\AppData\\Local\\Programs\\Python\\Python312\\Lib\\site-packages\\autograd\\numpy\\numpy_vjps.py:720\u001b[39m, in \u001b[36mtensordot_vjp_0.<locals>.<lambda>\u001b[39m\u001b[34m(G)\u001b[39m\n\u001b[32m    718\u001b[39m \u001b[38;5;28;01mdef\u001b[39;00m\u001b[38;5;250m \u001b[39m\u001b[34mtensordot_vjp_0\u001b[39m(ans, A, B, axes=\u001b[32m2\u001b[39m):\n\u001b[32m    719\u001b[39m     A_ndim, B_ndim = anp.ndim(A), anp.ndim(B)\n\u001b[32m--> \u001b[39m\u001b[32m720\u001b[39m     \u001b[38;5;28;01mreturn\u001b[39;00m \u001b[38;5;28;01mlambda\u001b[39;00m G: match_complex(A, \u001b[43mtensordot_adjoint_0\u001b[49m\u001b[43m(\u001b[49m\u001b[43mB\u001b[49m\u001b[43m,\u001b[49m\u001b[43m \u001b[49m\u001b[43mG\u001b[49m\u001b[43m,\u001b[49m\u001b[43m \u001b[49m\u001b[43maxes\u001b[49m\u001b[43m,\u001b[49m\u001b[43m \u001b[49m\u001b[43mA_ndim\u001b[49m\u001b[43m,\u001b[49m\u001b[43m \u001b[49m\u001b[43mB_ndim\u001b[49m\u001b[43m)\u001b[49m)\n",
      "\u001b[36mFile \u001b[39m\u001b[32mc:\\Users\\jakub\\AppData\\Local\\Programs\\Python\\Python312\\Lib\\site-packages\\autograd\\tracer.py:54\u001b[39m, in \u001b[36mprimitive.<locals>.f_wrapped\u001b[39m\u001b[34m(*args, **kwargs)\u001b[39m\n\u001b[32m     52\u001b[39m     \u001b[38;5;28;01mreturn\u001b[39;00m new_box(ans, trace, node)\n\u001b[32m     53\u001b[39m \u001b[38;5;28;01melse\u001b[39;00m:\n\u001b[32m---> \u001b[39m\u001b[32m54\u001b[39m     \u001b[38;5;28;01mreturn\u001b[39;00m \u001b[43mf_raw\u001b[49m\u001b[43m(\u001b[49m\u001b[43m*\u001b[49m\u001b[43margs\u001b[49m\u001b[43m,\u001b[49m\u001b[43m \u001b[49m\u001b[43m*\u001b[49m\u001b[43m*\u001b[49m\u001b[43mkwargs\u001b[49m\u001b[43m)\u001b[49m\n",
      "\u001b[36mFile \u001b[39m\u001b[32mc:\\Users\\jakub\\AppData\\Local\\Programs\\Python\\Python312\\Lib\\site-packages\\autograd\\numpy\\numpy_vjps.py:685\u001b[39m, in \u001b[36mtensordot_adjoint_0\u001b[39m\u001b[34m(B, G, axes, A_ndim, B_ndim)\u001b[39m\n\u001b[32m    680\u001b[39m summed_axes = [\n\u001b[32m    681\u001b[39m     onp.asarray(axes[\u001b[32m0\u001b[39m], dtype=\u001b[33m\"\u001b[39m\u001b[33mint64\u001b[39m\u001b[33m\"\u001b[39m) % A_ndim,\n\u001b[32m    682\u001b[39m     onp.asarray(axes[\u001b[32m1\u001b[39m], dtype=\u001b[33m\"\u001b[39m\u001b[33mint64\u001b[39m\u001b[33m\"\u001b[39m) % B_ndim,\n\u001b[32m    683\u001b[39m ]\n\u001b[32m    684\u001b[39m other_axes = [onp.delete(A_axes, summed_axes[\u001b[32m0\u001b[39m]), onp.delete(B_axes, summed_axes[\u001b[32m1\u001b[39m])]\n\u001b[32m--> \u001b[39m\u001b[32m685\u001b[39m out = \u001b[43monp\u001b[49m\u001b[43m.\u001b[49m\u001b[43mtensordot\u001b[49m\u001b[43m(\u001b[49m\u001b[43mG\u001b[49m\u001b[43m,\u001b[49m\u001b[43m \u001b[49m\u001b[43mB\u001b[49m\u001b[43m,\u001b[49m\u001b[43m \u001b[49m\u001b[43m[\u001b[49m\u001b[43mG_axes\u001b[49m\u001b[43m[\u001b[49m\u001b[38;5;28;43mlen\u001b[39;49m\u001b[43m(\u001b[49m\u001b[43mother_axes\u001b[49m\u001b[43m[\u001b[49m\u001b[32;43m0\u001b[39;49m\u001b[43m]\u001b[49m\u001b[43m)\u001b[49m\u001b[43m \u001b[49m\u001b[43m:\u001b[49m\u001b[43m]\u001b[49m\u001b[43m,\u001b[49m\u001b[43m \u001b[49m\u001b[43mother_axes\u001b[49m\u001b[43m[\u001b[49m\u001b[32;43m1\u001b[39;49m\u001b[43m]\u001b[49m\u001b[43m]\u001b[49m\u001b[43m)\u001b[49m\n\u001b[32m    686\u001b[39m perm = onp.argsort(onp.concatenate((other_axes[\u001b[32m0\u001b[39m], summed_axes[\u001b[32m0\u001b[39m][onp.argsort(summed_axes[\u001b[32m1\u001b[39m])])))\n\u001b[32m    687\u001b[39m \u001b[38;5;28;01mreturn\u001b[39;00m onp.transpose(out, perm)\n",
      "\u001b[36mFile \u001b[39m\u001b[32mc:\\Users\\jakub\\AppData\\Local\\Programs\\Python\\Python312\\Lib\\site-packages\\numpy\\_core\\numeric.py:1211\u001b[39m, in \u001b[36mtensordot\u001b[39m\u001b[34m(a, b, axes)\u001b[39m\n\u001b[32m   1209\u001b[39m at = a.transpose(newaxes_a).reshape(newshape_a)\n\u001b[32m   1210\u001b[39m bt = b.transpose(newaxes_b).reshape(newshape_b)\n\u001b[32m-> \u001b[39m\u001b[32m1211\u001b[39m res = \u001b[43mdot\u001b[49m\u001b[43m(\u001b[49m\u001b[43mat\u001b[49m\u001b[43m,\u001b[49m\u001b[43m \u001b[49m\u001b[43mbt\u001b[49m\u001b[43m)\u001b[49m\n\u001b[32m   1212\u001b[39m \u001b[38;5;28;01mreturn\u001b[39;00m res.reshape(olda + oldb)\n",
      "\u001b[31mKeyboardInterrupt\u001b[39m: "
     ]
    }
   ],
   "source": [
    "sizes = [4, 6, 8, 10]\n",
    "edge_prob = 0.5\n",
    "time_per_size = 900\n",
    "p_layers = 1\n",
    "optimizer_steps = 50\n",
    "\n",
    "cut_values = run_qaoa_experiment_time_budget(\n",
    "    [int(s) for s in sizes], \n",
    "    float(edge_prob), \n",
    "    int(time_per_size), \n",
    "    int(p_layers), \n",
    "    int(optimizer_steps)\n",
    ")\n",
    "\n",
    "df = pd.DataFrame({\n",
    "    'Graph Size': np.repeat(sizes, [len(cut) for cut in cut_values]),\n",
    "    'Cut Value': np.concatenate(cut_values)\n",
    "})\n",
    "\n",
    "# Save csv\n",
    "os.makedirs('data/qaoa-data', exist_ok=True)\n",
    "timestamp = datetime.now().strftime(\"%Y%m%d-%H%M%S\")\n",
    "csv_path = f'data/qaoa-data/qaoa_{timestamp}.csv'\n",
    "df.to_csv(csv_path, index=False)\n",
    "print(f\"Results saved to {csv_path}\")\n",
    "\n",
    "# Save plot\n",
    "timestamp = datetime.now().strftime(\"%Y%m%d-%H%M%S\")\n",
    "plot_path = f'plots/qaoa-plots/qaoa_violin_{timestamp}.png'\n",
    "\n",
    "plt.figure(figsize=(12, 6))\n",
    "sns.violinplot(x='Graph Size', y='Cut Value', data=df, inner='quartile')\n",
    "plt.title('QAOA Max-Cut Values by Graph Size')\n",
    "plt.xlabel('Graph Size')\n",
    "plt.ylabel('Cut Value')\n",
    "plt.xticks(rotation=45)\n",
    "plt.tight_layout()\n",
    "plt.savefig(plot_path)\n",
    "print(f\"Plot saved to {plot_path}\")\n",
    "plt.show()"
   ]
  }
 ],
 "metadata": {
  "kernelspec": {
   "display_name": "Python 3",
   "language": "python",
   "name": "python3"
  },
  "language_info": {
   "codemirror_mode": {
    "name": "ipython",
    "version": 3
   },
   "file_extension": ".py",
   "mimetype": "text/x-python",
   "name": "python",
   "nbconvert_exporter": "python",
   "pygments_lexer": "ipython3",
   "version": "3.12.1"
  }
 },
 "nbformat": 4,
 "nbformat_minor": 5
}
