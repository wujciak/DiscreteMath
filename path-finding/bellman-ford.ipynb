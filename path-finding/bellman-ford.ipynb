{
 "cells": [
  {
   "cell_type": "code",
   "execution_count": 1,
   "id": "c95381b8",
   "metadata": {},
   "outputs": [
    {
     "data": {
      "text/plain": [
       "bellmanford (generic function with 1 method)"
      ]
     },
     "metadata": {},
     "output_type": "display_data"
    }
   ],
   "source": [
    "mutable struct WEdge\n",
    "    u::Int\n",
    "    v::Int\n",
    "    w::Float64\n",
    "end\n",
    "\n",
    "mutable struct WGraph\n",
    "    adj::Dict{Int, Vector{WEdge}}\n",
    "end\n",
    "\n",
    "function addedge!(g::WGraph, u::Int, v::Int, w::Float64)\n",
    "    if !haskey(g.adj, u)\n",
    "        g.adj[u] = Vector{WEdge}()\n",
    "    end\n",
    "    if !haskey(g.adj, v)\n",
    "        g.adj[v] = Vector{WEdge}()\n",
    "    end\n",
    "\n",
    "    push!(g.adj[u], WEdge(u, v, w))\n",
    "end\n",
    "\n",
    "# Init single source function\n",
    "function initsinglesource(graph::WGraph, s::Int)\n",
    "    dist = Dict{Int, Float64}()\n",
    "    pred = Dict{Int, Union{Int, Nothing}}()\n",
    "    for v in keys(graph.adj)\n",
    "        dist[v] = Inf\n",
    "        pred[v] = nothing\n",
    "    end\n",
    "    dist[s] = 0.0\n",
    "\n",
    "    return dist, pred\n",
    "end\n",
    "\n",
    "\n",
    "# Relaxing function\n",
    "function relax!(dist::Dict{Int, Float64}, pred::Dict{Int, Union{Int, Nothing}}, u::Int, v::Int, w::Float64)\n",
    "    if dist[v] > dist[u] + w\n",
    "        dist[v] = dist[u] + w\n",
    "        pred[v] = u\n",
    "    end\n",
    "end\n",
    "\n",
    "# Bellman-Ford algorithm\n",
    "function bellmanford(graph::WGraph, s::Int)\n",
    "    dist, pred = initsinglesource(graph, s)\n",
    "    V = keys(graph.adj)\n",
    "\n",
    "    for _ in 1:(length(V) - 1)\n",
    "        for u in V\n",
    "            for edge in graph.adj[u]\n",
    "                relax!(dist, pred, edge.u, edge.v, edge.w)\n",
    "            end\n",
    "        end\n",
    "    end\n",
    "\n",
    "    # Check for negative-weight cycles\n",
    "    for u in V\n",
    "        for edge in graph.adj[u]\n",
    "            if dist[edge.v] > dist[edge.u] + edge.w\n",
    "                return false, dist, pred\n",
    "            end\n",
    "        end\n",
    "    end\n",
    "\n",
    "    return true, dist, pred\n",
    "end"
   ]
  },
  {
   "cell_type": "code",
   "execution_count": 2,
   "id": "8180415f",
   "metadata": {},
   "outputs": [
    {
     "data": {
      "text/plain": [
       "run_bellmanford_experiment (generic function with 1 method)"
      ]
     },
     "metadata": {},
     "output_type": "display_data"
    }
   ],
   "source": [
    "using Random\n",
    "using BenchmarkTools\n",
    "using Statistics\n",
    "\n",
    "function generate_weighted_graph(n::Int, edge_prob::Float64 = 0.3)\n",
    "    g = WGraph(Dict{Int, Vector{WEdge}}())\n",
    "    for u in 1:n\n",
    "        for v in 1:n\n",
    "            if u != v && rand() < edge_prob\n",
    "                w = rand() * 15.0 - 5.0 # (-5 to 10)\n",
    "                addedge!(g, u, v, w)\n",
    "            end\n",
    "        end\n",
    "    end\n",
    "\n",
    "    return g\n",
    "end\n",
    "\n",
    "function estimate_instances_bf(graph::WGraph, s::Int, target_time::Float64 = 420.0)\n",
    "    trials = 3\n",
    "    times = [@elapsed bellmanford(graph, s) for _ in 1:trials]\n",
    "    avg_time = mean(times)\n",
    "    est = max(1, Int(round(target_time / avg_time)))\n",
    "    return est\n",
    "end\n",
    "\n",
    "function measure_bf_time(graph::WGraph, s::Int, target_time::Float64 = 420.0)\n",
    "    instances = estimate_instances_bf(graph, s, target_time)\n",
    "    times = [@elapsed bellmanford(graph, s) for _ in 1:instances]\n",
    "    avg_time = mean(times)\n",
    "    total_time = sum(times)\n",
    "    return avg_time, total_time, instances, times\n",
    "end\n",
    "\n",
    "function run_bellmanford_experiment()\n",
    "    sizes = [10, 50, 100, 200, 400, 600, 800, 1000]\n",
    "    all_times = []\n",
    "    labels = []\n",
    "\n",
    "    for size in sizes\n",
    "        println(\"Measuring Bellman-Ford for size $size\")\n",
    "        g = generate_weighted_graph(size)\n",
    "        avg, total, instances, inst_times = measure_bf_time(g, 1)\n",
    "        println(\"Instances: $instances | Avg time: $(round(avg, digits=4))s | Total time: $(round(total, digits=2))s\")\n",
    "\n",
    "        append!(all_times, inst_times)\n",
    "        append!(labels, size)\n",
    "    end\n",
    "\n",
    "    return labels, all_times\n",
    "end"
   ]
  },
  {
   "cell_type": "code",
   "execution_count": null,
   "id": "e2c6245e",
   "metadata": {},
   "outputs": [
    {
     "name": "stdout",
     "output_type": "stream",
     "text": [
      "Measuring Bellman-Ford for size 10\n",
      "Instances: 28125000 | Avg time: 0.0s | Total time: 298.87s\n",
      "Measuring Bellman-Ford for size 50\n",
      "Instances: 252946 | Avg time: 0.0016s | Total time: 411.85s\n",
      "Measuring Bellman-Ford for size 100\n",
      "Instances: 37520 | Avg time: 0.0116s | Total time: 433.74s\n",
      "Measuring Bellman-Ford for size 200\n",
      "Instances: 4655 | Avg time: 0.0893s | Total time: 415.71s\n",
      "Measuring Bellman-Ford for size 400\n",
      "Instances: 432 | Avg time: 0.9441s | Total time: 407.86s\n",
      "Measuring Bellman-Ford for size 600\n"
     ]
    }
   ],
   "source": [
    "using StatsPlots\n",
    "\n",
    "labels, times = run_bellmanford_experiment()\n",
    "\n",
    "violin(labels, times,\n",
    "       xlabel = \"Graph Size (n)\",\n",
    "       ylabel = \"Computation Time (s)\",\n",
    "       title = \"Bellman-Ford Runtime Distribution\",\n",
    "       legend = false,\n",
    "       fillalpha = 0.6)"
   ]
  }
 ],
 "metadata": {
  "kernelspec": {
   "display_name": "Julia 1.11.3",
   "language": "julia",
   "name": "julia-1.11"
  },
  "language_info": {
   "file_extension": ".jl",
   "mimetype": "application/julia",
   "name": "julia",
   "version": "1.11.3"
  }
 },
 "nbformat": 4,
 "nbformat_minor": 5
}
