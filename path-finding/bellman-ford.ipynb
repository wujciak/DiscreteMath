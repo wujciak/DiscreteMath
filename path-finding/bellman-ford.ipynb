{
 "cells": [
  {
   "cell_type": "markdown",
   "id": "83fdddd5",
   "metadata": {},
   "source": [
    "# Bellman-Ford"
   ]
  },
  {
   "cell_type": "markdown",
   "id": "e1ffdef1",
   "metadata": {},
   "source": [
    "## Implementation of basic structures and algorithm"
   ]
  },
  {
   "cell_type": "code",
   "execution_count": 9,
   "id": "c95381b8",
   "metadata": {},
   "outputs": [
    {
     "data": {
      "text/plain": [
       "bellmanford (generic function with 1 method)"
      ]
     },
     "metadata": {},
     "output_type": "display_data"
    }
   ],
   "source": [
    "mutable struct WEdge\n",
    "    u::Int\n",
    "    v::Int\n",
    "    w::Float64\n",
    "end\n",
    "\n",
    "mutable struct WGraph\n",
    "    adj::Dict{Int, Vector{WEdge}}\n",
    "end\n",
    "\n",
    "function addedge!(g::WGraph, u::Int, v::Int, w::Float64)\n",
    "    if !haskey(g.adj, u)\n",
    "        g.adj[u] = Vector{WEdge}()\n",
    "    end\n",
    "    if !haskey(g.adj, v)\n",
    "        g.adj[v] = Vector{WEdge}()\n",
    "    end\n",
    "\n",
    "    push!(g.adj[u], WEdge(u, v, w))\n",
    "end\n",
    "\n",
    "# Init single source function\n",
    "function initsinglesource(graph::WGraph, s::Int)\n",
    "    dist = Dict{Int, Float64}()\n",
    "    pred = Dict{Int, Union{Int, Nothing}}()\n",
    "    for v in keys(graph.adj)\n",
    "        dist[v] = Inf\n",
    "        pred[v] = nothing\n",
    "    end\n",
    "    dist[s] = 0.0\n",
    "\n",
    "    return dist, pred\n",
    "end\n",
    "\n",
    "# Relaxing function\n",
    "function relax!(dist::Dict{Int, Float64}, pred::Dict{Int, Union{Int, Nothing}}, u::Int, v::Int, w::Float64)\n",
    "    if dist[v] > dist[u] + w\n",
    "        dist[v] = dist[u] + w\n",
    "        pred[v] = u\n",
    "    end\n",
    "end\n",
    "\n",
    "# Bellman-Ford algorithm\n",
    "function bellmanford(graph::WGraph, s::Int)\n",
    "    dist, pred = initsinglesource(graph, s)\n",
    "    V = keys(graph.adj)\n",
    "\n",
    "    for _ in 1:(length(V) - 1)\n",
    "        for u in V\n",
    "            for edge in graph.adj[u]\n",
    "                relax!(dist, pred, edge.u, edge.v, edge.w)\n",
    "            end\n",
    "        end\n",
    "    end\n",
    "\n",
    "    # Check for negative-weight cycles\n",
    "    for u in V\n",
    "        for edge in graph.adj[u]\n",
    "            if dist[edge.v] > dist[edge.u] + edge.w\n",
    "                return false, dist, pred\n",
    "            end\n",
    "        end\n",
    "    end\n",
    "\n",
    "    return true, dist, pred\n",
    "end"
   ]
  },
  {
   "cell_type": "markdown",
   "id": "08dc40ef",
   "metadata": {},
   "source": [
    "## Experiment functions"
   ]
  },
  {
   "cell_type": "code",
   "execution_count": 10,
   "id": "8180415f",
   "metadata": {},
   "outputs": [
    {
     "data": {
      "text/plain": [
       "run_bellmanford_experiment (generic function with 3 methods)"
      ]
     },
     "metadata": {},
     "output_type": "display_data"
    }
   ],
   "source": [
    "using Random\n",
    "using BenchmarkTools\n",
    "using Statistics\n",
    "\n",
    "function generate_weighted_graph(n::Int, edge_prob::Float64 = 0.3)\n",
    "    g = WGraph(Dict{Int, Vector{WEdge}}())\n",
    "    for u in 1:n\n",
    "        for v in 1:n\n",
    "            if u != v && rand() < edge_prob\n",
    "                w = rand(-5.0:1.0:10.0)\n",
    "                addedge!(g, u, v, w)\n",
    "            end\n",
    "        end\n",
    "    end\n",
    "\n",
    "    return g\n",
    "end\n",
    "\n",
    "function estimate_instances_bf(graph::WGraph, s::Int, target_time::Float64 = 420.0)\n",
    "    test_instances = 3\n",
    "    instance_times = [@elapsed bellmanford(graph, s) for _ in 1:test_instances]\n",
    "    avg_time = mean(instance_times)\n",
    "\n",
    "    estimate_instances = max(1, Int(round(target_time / avg_time)))\n",
    "    return estimate_instances\n",
    "end\n",
    "\n",
    "function measure_bf_time(graph::WGraph, s::Int, target_time::Float64 = 420.0)\n",
    "    instances = estimate_instances_bf(graph, s, target_time)\n",
    "    instance_times = [@elapsed bellmanford(graph, s) for _ in 1:instances]\n",
    "\n",
    "    avg_time = mean(instance_times)\n",
    "    median_time = median(instance_times)\n",
    "    total_time = sum(instance_times)\n",
    "\n",
    "    return avg_time, median_time, total_time, instances, instance_times\n",
    "end\n",
    "\n",
    "function run_bellmanford_experiment(edge_prob::Float64 = 0.8, target_time::Float64 = 420.0)\n",
    "    sizes = [50, 100, 200, 400, 600, 800, 1000, 1200]\n",
    "    all_times = Vector{Vector{Float64}}()\n",
    "\n",
    "    for size in sizes\n",
    "        println(\"Measuring Bellman-Ford for size $size\")\n",
    "        g = generate_weighted_graph(size, edge_prob)\n",
    "        avg_time, median_time, total_time, instances, instance_times = measure_bf_time(g, 1)\n",
    "        println(\"Instances: $instances | Avg time: $avg_time s | Median time: $median_time s |Total time: $total_time s\")\n",
    "        push!(all_times, instance_times)\n",
    "    end\n",
    "\n",
    "    return all_times\n",
    "end"
   ]
  },
  {
   "cell_type": "markdown",
   "id": "c96a64f4",
   "metadata": {},
   "source": [
    "## Run experiment and generate violin plot"
   ]
  },
  {
   "cell_type": "code",
   "execution_count": 11,
   "id": "b499d2cd",
   "metadata": {},
   "outputs": [
    {
     "name": "stdout",
     "output_type": "stream",
     "text": [
      "Measuring Bellman-Ford for size 50\n",
      "Instances: 304157 | Avg time: 0.002490984495836032 s | Median time: 0.0026919 s |Total time: 757.6503713 s\n",
      "Measuring Bellman-Ford for size 100\n",
      "Instances: 18338 | Avg time: 0.01657449030973934 s | Median time: 0.0137079 s |Total time: 303.9430033 s\n",
      "Measuring Bellman-Ford for size 200\n",
      "Instances: 2238 | Avg time: 0.18288464472743524 s | Median time: 0.19276185 s |Total time: 409.29583490000005 s\n",
      "Measuring Bellman-Ford for size 400\n",
      "Instances: 266 | Avg time: 1.2519567785714285 s | Median time: 1.03440485 s |Total time: 333.0205031 s\n",
      "Measuring Bellman-Ford for size 600\n",
      "Instances: 106 | Avg time: 3.930106111320754 s | Median time: 3.91957 s |Total time: 416.5912477999999 s\n",
      "Measuring Bellman-Ford for size 800\n",
      "Instances: 55 | Avg time: 8.078199936363637 s | Median time: 7.7580021 s |Total time: 444.3009965 s\n",
      "Measuring Bellman-Ford for size 1000\n",
      "Instances: 27 | Avg time: 21.837452196296294 s | Median time: 23.7792307 s |Total time: 589.6112092999999 s\n",
      "Measuring Bellman-Ford for size 1200\n",
      "Instances: 10 | Avg time: 43.08453465999999 s | Median time: 42.68439135 s |Total time: 430.8453465999999 s\n"
     ]
    },
    {
     "data": {
      "text/plain": [
       "\"c:\\\\VSCodeProjects\\\\Julia\\\\path-finding\\\\plots\\\\bellman_ford_violin_plot_20250419_0018.png\""
      ]
     },
     "metadata": {},
     "output_type": "display_data"
    }
   ],
   "source": [
    "using StatsPlots\n",
    "using Dates\n",
    "\n",
    "times = run_bellmanford_experiment(0.75, 420.0)\n",
    "sizes_series = [\"50\" \"100\" \"200\" \"400\" \"600\" \"800\" \"1000\" \"1200\"]\n",
    "\n",
    "violin(\n",
    "    sizes_series,\n",
    "    times,\n",
    "    xlabel = \"Graph Size (n)\",\n",
    "    ylabel = \"Time (s)\",\n",
    "    title = \"Floyd-Warshall Algorithm Performance\",\n",
    "    show_median = true,\n",
    "    legend = false,\n",
    "    yscale = :log10,\n",
    ")\n",
    "\n",
    "savefig(\"plots/bellman_ford_violin_plot_$(Dates.format(Dates.now(), \"yyyymmdd_HHMM\")).png\")"
   ]
  }
 ],
 "metadata": {
  "kernelspec": {
   "display_name": "Julia 1.11.3",
   "language": "julia",
   "name": "julia-1.11"
  },
  "language_info": {
   "file_extension": ".jl",
   "mimetype": "application/julia",
   "name": "julia",
   "version": "1.11.3"
  }
 },
 "nbformat": 4,
 "nbformat_minor": 5
}
