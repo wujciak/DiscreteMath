{
 "cells": [
  {
   "cell_type": "markdown",
   "id": "ca688873",
   "metadata": {},
   "source": [
    "# Floyd-Warchall"
   ]
  },
  {
   "cell_type": "markdown",
   "id": "f8fe30e4",
   "metadata": {},
   "source": [
    "## Algorithm and experiment functions"
   ]
  },
  {
   "cell_type": "code",
   "execution_count": 6,
   "id": "76b9bf81",
   "metadata": {},
   "outputs": [
    {
     "data": {
      "text/plain": [
       "run_experiment (generic function with 3 methods)"
      ]
     },
     "metadata": {},
     "output_type": "display_data"
    }
   ],
   "source": [
    "using BenchmarkTools\n",
    "using Statistics\n",
    "using Random\n",
    "\n",
    "# Graph generating function\n",
    "function generate_graph_fw(n::Int, edge_prob::Float64 = 0.5)\n",
    "    A = fill(Inf, n, n)\n",
    "    for i in 1:n\n",
    "        A[i,i] = 0.0\n",
    "        for j in 1:n\n",
    "            if j != i && rand() < edge_prob\n",
    "                # Allow negative weights and avoid negative self-loops\n",
    "                A[i,j] = rand(-5.0:1.0:10.0) \n",
    "            end\n",
    "        end\n",
    "    end\n",
    "\n",
    "    return A\n",
    "end\n",
    "\n",
    "# Main Algorithm Floyd Warshall\n",
    "function floydwarshall(A::Matrix{Float64})\n",
    "    n = size(A, 1)\n",
    "    dist = copy(A)\n",
    "\n",
    "    for k in 1:n\n",
    "        for i in 1:n\n",
    "            for j in 1:n\n",
    "                if dist[i, j] > dist[i, k] + dist[k, j]\n",
    "                    dist[i, j] = dist[i, k] + dist[k, j]\n",
    "                end\n",
    "            end\n",
    "        end\n",
    "    end\n",
    "\n",
    "    return dist\n",
    "end\n",
    "\n",
    "# Function to check for negative cycles\n",
    "function has_negative_cycle(A::Matrix{Float64})\n",
    "    for i in 1:size(A, 1)\n",
    "        if A[i, i] < 0.0\n",
    "            return true\n",
    "        end\n",
    "    end\n",
    "    return false\n",
    "end\n",
    "\n",
    "# Time estimator for later experiments\n",
    "function estimate_instances_fw(A::Matrix{Float64}, target_time::Float64 = 420.0)\n",
    "    test_instances = 3\n",
    "    instance_times = [@elapsed floydwarshall(copy(A)) for _ in 1:test_instances]\n",
    "    avg_time = mean(instance_times)\n",
    "\n",
    "    estimated_instances = max(1, Int(round(target_time / avg_time)))\n",
    "\n",
    "    return estimated_instances\n",
    "end\n",
    "\n",
    "# Time measuring function\n",
    "function measure_fw_time(A::Matrix{Float64}, target_time::Float64 = 420.0)\n",
    "    instances = estimate_instances_fw(A, target_time)\n",
    "    negative_cycle_count = 0\n",
    "    instance_times = Vector{Float64}()\n",
    "    for _ in 1:instances\n",
    "        A_copy = deepcopy(A)\n",
    "        dist = nothing\n",
    "        time = @elapsed begin \n",
    "            dist = floydwarshall(A_copy)\n",
    "        end\n",
    "        push!(instance_times, time)\n",
    "\n",
    "        if has_negative_cycle(dist)\n",
    "            negative_cycle_count += 1\n",
    "        end\n",
    "\n",
    "    end\n",
    "    println(\"Negative cycles found: $negative_cycle_count for size $(size(A, 1))\")\n",
    "\n",
    "    avg_time = mean(instance_times)\n",
    "    median_time = median(instance_times)\n",
    "    total_time = sum(instance_times)\n",
    "    \n",
    "    return avg_time, median_time, total_time, instances, instance_times\n",
    "end\n",
    "\n",
    "# Function for runnig whole experiment using additional functions\n",
    "function run_experiment(edge_prob::Float64 = 0.8, target_time::Float64 = 420.0)\n",
    "    sizes = [50, 100, 200, 400, 600, 800, 1000, 1200]\n",
    "    all_times = Vector{Vector{Float64}}() \n",
    "\n",
    "    for size in sizes\n",
    "        A = generate_graph_fw(size, edge_prob)\n",
    "        avg_time, median_time, total_time, instances, instance_times = measure_fw_time(A, target_time)\n",
    "        push!(all_times, instance_times)\n",
    "        println(\"Size: $size | Instances: $instances | Avg Time: $avg_time | Median Time: $median_time | Total Time: $total_time\")\n",
    "        println(\"--------------------------------------------------\")\n",
    "    end\n",
    "\n",
    "    return all_times\n",
    "end"
   ]
  },
  {
   "cell_type": "markdown",
   "id": "00dd20eb",
   "metadata": {},
   "source": [
    "## Run experiment and make violin plot"
   ]
  },
  {
   "cell_type": "code",
   "execution_count": 7,
   "id": "65e5ae03",
   "metadata": {},
   "outputs": [
    {
     "data": {
      "text/plain": [
       "\"c:\\\\VSCodeProjects\\\\Julia\\\\path-finding\\\\plots\\\\floyd_warshall_violin_plot_20250419_0032.png\""
      ]
     },
     "metadata": {},
     "output_type": "display_data"
    }
   ],
   "source": [
    "using StatsPlots\n",
    "using Dates\n",
    "\n",
    "# Run experiment\n",
    "times = run_experiment(0.75, 420.0)\n",
    "sizes_series = [\"50\" \"100\" \"200\" \"400\" \"600\" \"800\" \"1000\" \"1200\"]\n",
    "\n",
    "violin(\n",
    "    sizes_series,\n",
    "    times,\n",
    "    xlabel = \"Sizes (n)\",\n",
    "    ylabel = \"Times (s)\",\n",
    "    title = \"Floyd-Warshall Algorithm Performance\",\n",
    "    show_median = true,\n",
    "    legend = false,\n",
    "    yscale = :log10,\n",
    ")\n",
    "\n",
    "savefig(\"plots/floyd_warshall_violin_plot_$(Dates.format(Dates.now(), \"yyyymmdd_HHMM\")).png\")"
   ]
  }
 ],
 "metadata": {
  "kernelspec": {
   "display_name": "Julia 1.11.3",
   "language": "julia",
   "name": "julia-1.11"
  },
  "language_info": {
   "file_extension": ".jl",
   "mimetype": "application/julia",
   "name": "julia",
   "version": "1.11.3"
  }
 },
 "nbformat": 4,
 "nbformat_minor": 5
}
