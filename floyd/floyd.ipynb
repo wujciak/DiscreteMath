{
 "cells": [
  {
   "cell_type": "markdown",
   "id": "ca688873",
   "metadata": {},
   "source": [
    "# Topic: Shortest paths algorithms\n",
    "## Introduction\n",
    "* We can use structures from previous assignment\n",
    "* |V| = n\n",
    "* |V| = e ~ n^2\n",
    "## Assignment objectives\n",
    "* Implement Floyd-Warschall algorithm - can be implemeneted using matrix notation\n",
    "* Implement Bellman-Ford algorithm\n",
    "* Run experiments\n",
    "* Run additional experiments\n",
    "* Use histogram, box plot or violin plot"
   ]
  },
  {
   "cell_type": "code",
   "execution_count": 9,
   "id": "76b9bf81",
   "metadata": {},
   "outputs": [
    {
     "data": {
      "text/plain": [
       "run_experiment (generic function with 4 methods)"
      ]
     },
     "metadata": {},
     "output_type": "display_data"
    }
   ],
   "source": [
    "using BenchmarkTools\n",
    "using Statistics\n",
    "using Random\n",
    "using StatsPlots\n",
    "\n",
    "# Graph generating function\n",
    "function generate_graph_fw(n::Int, edge_prob::Float64 = 0.8)\n",
    "    A = fill(Inf, n, n)\n",
    "    for i in 1:n\n",
    "        A[i,i] = 0.0\n",
    "        for j in 1:n\n",
    "            if i != j && rand() < edge_prob\n",
    "                # Allow negative weights and avoid negative self-loops\n",
    "                A[i,j] = rand(-5.0:1.0:10.0) \n",
    "            end\n",
    "        end\n",
    "    end\n",
    "\n",
    "    return A\n",
    "end\n",
    "\n",
    "\n",
    "# Main Algorithm Floyd Warshall\n",
    "function floydwarshall(A::Matrix{Float64})\n",
    "    n = size(A, 1)\n",
    "    dist = copy(A)\n",
    "\n",
    "    for k in 1:n\n",
    "        for i in 1:n\n",
    "            for j in 1:n\n",
    "                if dist[i, j] > dist[i, k] + dist[k, j]\n",
    "                    dist[i, j] = dist[i, k] + dist[k, j]\n",
    "                end\n",
    "            end\n",
    "        end\n",
    "    end\n",
    "\n",
    "    return dist\n",
    "end\n",
    "\n",
    "\n",
    "# Time estimator for later experiments\n",
    "function estimate_instances_fw(A::Matrix{Float64}, target_time::Float64 = 420.0)\n",
    "    sample_runs = 3\n",
    "    times = [@elapsed floydwarshall(copy(A)) for _ in 1:sample_runs]\n",
    "    avg_time = mean(times)\n",
    "    est_instances = max(1, Int(round(target_time / avg_time)))\n",
    "\n",
    "    return est_instances\n",
    "end\n",
    "\n",
    "\n",
    "# Time measuring function\n",
    "function measure_fw_time(A::Matrix{Float64}, num_instances::Int)\n",
    "    times = [@elapsed floydwarshall(copy(A)) for _ in 1:num_instances]\n",
    "    avg_time = mean(times)\n",
    "    median_time = median(times)\n",
    "    total_time = sum(times)\n",
    "    \n",
    "    return avg_time, median_time, total_time, times\n",
    "end\n",
    "\n",
    "# Function for runnig whole experiment using additional functions\n",
    "function run_experiment(edge_prob::Float64 = 0.8, target_time::Float64 = 420.0, num_runs_per_size::Int = 50)\n",
    "    sizes = [10, 50, 100, 200, 400, 600, 800, 1000]\n",
    "    all_times = Vector{Vector{Float64}}()\n",
    "    \n",
    "    for n in sizes\n",
    "        times = []\n",
    "        for _ in 1:num_runs_per_size\n",
    "            graph = generate_graph_fw(n)\n",
    "            t = @elapsed floydwarshall(graph)\n",
    "            push!(times, t)\n",
    "        end\n",
    "        push!(all_times, times)\n",
    "    end\n",
    "    \n",
    "    violin(\n",
    "        sizes, \n",
    "        all_times, \n",
    "        xlabel=\"Graph Size (n)\", \n",
    "        ylabel=\"Time (s)\",\n",
    "        title=\"Floyd-Warshall Algorithm Performance\",\n",
    "        show_median=true\n",
    "        )\n",
    "    \n",
    "\n",
    "    return sizes, all_times\n",
    "end"
   ]
  },
  {
   "cell_type": "code",
   "execution_count": 10,
   "id": "65e5ae03",
   "metadata": {},
   "outputs": [
    {
     "data": {
      "text/plain": [
       "([10, 50, 100, 200, 400, 600, 800, 1000], [[5.3e-6, 4.2e-6, 4.9e-6, 4.7e-6, 5.0e-6, 4.1e-6, 4.7e-6, 4.2e-6, 4.7e-6, 4.6e-6  …  4.4e-6, 4.0e-6, 6.2e-6, 6.4e-6, 5.8e-6, 5.6e-6, 8.5e-6, 6.2e-6, 3.8e-6, 4.3e-6], [0.0004186, 0.000395, 0.0004135, 0.000407, 0.000408, 0.0004143, 0.0004096, 0.0004057, 0.0004049, 0.0004086  …  0.0004199, 0.0004209, 0.0004182, 0.0004237, 0.0004158, 0.0004156, 0.0004209, 0.0004176, 0.0004151, 0.0004075], [0.0034027, 0.0038831, 0.0037927, 0.0033561, 0.0034092, 0.0034466, 0.0053587, 0.0040488, 0.0035705, 0.0036818  …  0.0035366, 0.0037109, 0.0035878, 0.0034932, 0.0035184, 0.0035753, 0.0037905, 0.0037501, 0.0046179, 0.0041182], [0.0358338, 0.0284632, 0.0287988, 0.0295709, 0.0311099, 0.0288707, 0.0290329, 0.0290548, 0.0356924, 0.030419  …  0.0346282, 0.0382286, 0.036207, 0.0422181, 0.0431819, 0.0435756, 0.0386975, 0.0413564, 0.046765, 0.0434229], [0.2963917, 0.2592789, 0.2631504, 0.3806597, 0.2998062, 0.3687147, 0.2707194, 0.2626467, 0.2494462, 0.240477  …  0.238591, 0.2365697, 0.2459857, 0.237823, 0.2628828, 0.3457336, 0.2973499, 0.3044971, 0.3107306, 0.3019332], [1.0454293, 0.8049727, 1.0525313, 1.0826885, 0.9678331, 0.759181, 0.7935691, 0.7319699, 0.7731611, 0.7415109  …  0.8034022, 0.9190335, 0.9941639, 1.1785002, 1.0773281, 0.8878247, 0.9380164, 0.9263886, 0.7716885, 0.8362867], [2.2366758, 2.2186764, 2.0645982, 2.0451112, 2.2080117, 2.1814339, 2.2553141, 2.084009, 2.2135796, 2.3001881  …  2.0755344, 2.200968, 2.2263482, 2.169122, 2.3989385, 2.4637394, 2.3648018, 2.1302415, 2.4215077, 2.3853003], [8.2993207, 8.0239839, 8.8653391, 8.2474613, 8.1581256, 8.1580078, 8.6056678, 8.0148202, 8.1211154, 8.0774615  …  8.1481367, 7.846454, 8.0774285, 8.3555533, 8.4077541, 7.9807002, 8.0786301, 8.4046625, 8.2977757, 7.9112102]])"
      ]
     },
     "metadata": {},
     "output_type": "display_data"
    }
   ],
   "source": [
    "# Run Floyd Warshall Experiment\n",
    "run_experiment(0.7)\n",
    "\n",
    "# Violin plot results\n",
    "# violin(sizes, all_times,\n",
    "#        xlabel = \"Graph Size (n)\",\n",
    "#        ylabel = \"Computation Time (s)\",\n",
    "#        title = \"Floyd-Warshall Timing Distribution\",\n",
    "#        show_median = true,\n",
    "#        legend = false,\n",
    "#        fillalpha = 0.7)"
   ]
  }
 ],
 "metadata": {
  "kernelspec": {
   "display_name": "Julia 1.11.3",
   "language": "julia",
   "name": "julia-1.11"
  },
  "language_info": {
   "file_extension": ".jl",
   "mimetype": "application/julia",
   "name": "julia",
   "version": "1.11.3"
  }
 },
 "nbformat": 4,
 "nbformat_minor": 5
}
